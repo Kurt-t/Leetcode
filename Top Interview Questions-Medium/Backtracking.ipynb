{
 "cells": [
  {
   "cell_type": "markdown",
   "metadata": {},
   "source": [
    "# Backtracking\n",
    "Backtracking algorithm is applied to some specific types of problems:  \n",
    "1. Decision problem used to find a feasible solution of the problem  \n",
    "2. Optimisation problem used to find the best solution that can be applied  \n",
    "3. Enumeration problem used to find the set of all feasible solutions of the problem"
   ]
  },
  {
   "cell_type": "code",
   "execution_count": 2,
   "metadata": {},
   "outputs": [],
   "source": [
    "from typing import List"
   ]
  },
  {
   "cell_type": "markdown",
   "metadata": {},
   "source": [
    "## 17. Letter Combinations of a Phone Number"
   ]
  },
  {
   "cell_type": "code",
   "execution_count": 3,
   "metadata": {},
   "outputs": [
    {
     "name": "stdout",
     "output_type": "stream",
     "text": [
      "{'2': ['a', 'b', 'c'], '3': ['d', 'e', 'f']}\n",
      "['a', 'b', 'c']\n"
     ]
    }
   ],
   "source": [
    "# directly initializing a dict\n",
    "dicts = {'2':['a', 'b', 'c'], '3':['d', 'e', 'f']}\n",
    "print(dicts)\n",
    "print(dicts['2'])"
   ]
  },
  {
   "cell_type": "code",
   "execution_count": 4,
   "metadata": {},
   "outputs": [
    {
     "name": "stdout",
     "output_type": "stream",
     "text": [
      "2\n",
      "3\n",
      "4\n",
      "5\n"
     ]
    }
   ],
   "source": [
    "# how to get each char of a string\n",
    "strs = \"2345\"\n",
    "for i in strs:\n",
    "    print(i)"
   ]
  },
  {
   "cell_type": "code",
   "execution_count": 7,
   "metadata": {},
   "outputs": [],
   "source": [
    "# iterative: time and space O(3^n+4^m), n is the number of digits with 3 letters in the input, m is that of 4 letters.\n",
    "class Solution:\n",
    "    def letterCombinations(self, digits: str) -> List[str]:\n",
    "        dicts = {\n",
    "            '2':['a','b','c'],\n",
    "            '3':['d','e','f'],\n",
    "            '4':['g','h','i'],\n",
    "            '5':['j','k','l'],\n",
    "            '6':['m','n','o'],\n",
    "            '7':['p','q','r','s'],\n",
    "            '8':['t','u','v'],\n",
    "            '9':['w','x','y','z']\n",
    "        }\n",
    "        if digits is None or digits == \"\":\n",
    "            return []\n",
    "        res = []\n",
    "        for digit in digits:\n",
    "            if len(res) == 0:\n",
    "                tmp = dicts[digit]\n",
    "            else:\n",
    "                tmp = []\n",
    "                for i in res:\n",
    "                    for j in dicts[digit]:\n",
    "                        tmp.append(i+j)\n",
    "            res = tmp\n",
    "        return res"
   ]
  },
  {
   "cell_type": "markdown",
   "metadata": {},
   "source": [
    "## 22. Generate Parentheses"
   ]
  },
  {
   "cell_type": "code",
   "execution_count": 8,
   "metadata": {},
   "outputs": [],
   "source": [
    "# backtracking solution according to the leetcode\n",
    "# time and space is O(4^n/sqrt(n)), because there are (2n n)/(n+1) valid solutions, each takes O(n) steps to build.\n",
    "# (2n n) is the combinations of picking n places from 2n slots\n",
    "# the math is quite complex here...\n",
    "class Solution:\n",
    "    def generateParenthesis(self, n: int) -> List[str]:\n",
    "        if n == 0:\n",
    "            return [\"\"]\n",
    "        res = []\n",
    "        def backtrack(instance = \"\", left = 0, right = 0):\n",
    "            if len(instance) == 2 * n:\n",
    "                res.append(instance)\n",
    "                return\n",
    "            if left < n:\n",
    "                backtrack(instance + '(', left+1, right)\n",
    "            if right < left:\n",
    "                backtrack(instance + ')', left, right+1)\n",
    "        backtrack()\n",
    "        return res"
   ]
  },
  {
   "cell_type": "markdown",
   "metadata": {},
   "source": [
    "What is the grammar of defining a function inside a function in Python?"
   ]
  },
  {
   "cell_type": "code",
   "execution_count": 10,
   "metadata": {},
   "outputs": [
    {
     "name": "stdout",
     "output_type": "stream",
     "text": [
      "[] [1, 2, 3]\n",
      "None [2, 3]\n"
     ]
    },
    {
     "ename": "AttributeError",
     "evalue": "'NoneType' object has no attribute 'append'",
     "output_type": "error",
     "traceback": [
      "\u001b[0;31m---------------------------------------------------------------------------\u001b[0m",
      "\u001b[0;31mAttributeError\u001b[0m                            Traceback (most recent call last)",
      "\u001b[0;32m<ipython-input-10-7e724f0ed9e1>\u001b[0m in \u001b[0;36m<module>\u001b[0;34m\u001b[0m\n\u001b[1;32m     11\u001b[0m         \u001b[0;32melse\u001b[0m\u001b[0;34m:\u001b[0m\u001b[0;34m\u001b[0m\u001b[0;34m\u001b[0m\u001b[0m\n\u001b[1;32m     12\u001b[0m             \u001b[0mbacktrack\u001b[0m\u001b[0;34m(\u001b[0m\u001b[0minstance\u001b[0m\u001b[0;34m.\u001b[0m\u001b[0mappend\u001b[0m\u001b[0;34m(\u001b[0m\u001b[0mrest\u001b[0m\u001b[0;34m[\u001b[0m\u001b[0mi\u001b[0m\u001b[0;34m]\u001b[0m\u001b[0;34m)\u001b[0m\u001b[0;34m,\u001b[0m \u001b[0mrest\u001b[0m\u001b[0;34m[\u001b[0m\u001b[0;34m:\u001b[0m\u001b[0mi\u001b[0m\u001b[0;34m]\u001b[0m\u001b[0;34m)\u001b[0m\u001b[0;34m\u001b[0m\u001b[0;34m\u001b[0m\u001b[0m\n\u001b[0;32m---> 13\u001b[0;31m \u001b[0mbacktrack\u001b[0m\u001b[0;34m(\u001b[0m\u001b[0;34m)\u001b[0m\u001b[0;34m\u001b[0m\u001b[0;34m\u001b[0m\u001b[0m\n\u001b[0m\u001b[1;32m     14\u001b[0m \u001b[0mprint\u001b[0m\u001b[0;34m(\u001b[0m\u001b[0mres\u001b[0m\u001b[0;34m)\u001b[0m\u001b[0;34m\u001b[0m\u001b[0;34m\u001b[0m\u001b[0m\n",
      "\u001b[0;32m<ipython-input-10-7e724f0ed9e1>\u001b[0m in \u001b[0;36mbacktrack\u001b[0;34m(instance, rest)\u001b[0m\n\u001b[1;32m      8\u001b[0m     \u001b[0;32mfor\u001b[0m \u001b[0mi\u001b[0m \u001b[0;32min\u001b[0m \u001b[0mrange\u001b[0m\u001b[0;34m(\u001b[0m\u001b[0mlen\u001b[0m\u001b[0;34m(\u001b[0m\u001b[0mrest\u001b[0m\u001b[0;34m)\u001b[0m\u001b[0;34m)\u001b[0m\u001b[0;34m:\u001b[0m\u001b[0;34m\u001b[0m\u001b[0;34m\u001b[0m\u001b[0m\n\u001b[1;32m      9\u001b[0m         \u001b[0;32mif\u001b[0m \u001b[0mi\u001b[0m \u001b[0;34m<\u001b[0m \u001b[0mlen\u001b[0m\u001b[0;34m(\u001b[0m\u001b[0mrest\u001b[0m\u001b[0;34m)\u001b[0m \u001b[0;34m-\u001b[0m \u001b[0;36m1\u001b[0m\u001b[0;34m:\u001b[0m\u001b[0;34m\u001b[0m\u001b[0;34m\u001b[0m\u001b[0m\n\u001b[0;32m---> 10\u001b[0;31m             \u001b[0mbacktrack\u001b[0m\u001b[0;34m(\u001b[0m\u001b[0minstance\u001b[0m\u001b[0;34m.\u001b[0m\u001b[0mappend\u001b[0m\u001b[0;34m(\u001b[0m\u001b[0mrest\u001b[0m\u001b[0;34m[\u001b[0m\u001b[0mi\u001b[0m\u001b[0;34m]\u001b[0m\u001b[0;34m)\u001b[0m\u001b[0;34m,\u001b[0m \u001b[0mrest\u001b[0m\u001b[0;34m[\u001b[0m\u001b[0;34m:\u001b[0m\u001b[0mi\u001b[0m\u001b[0;34m]\u001b[0m\u001b[0;34m+\u001b[0m\u001b[0mrest\u001b[0m\u001b[0;34m[\u001b[0m\u001b[0mi\u001b[0m\u001b[0;34m+\u001b[0m\u001b[0;36m1\u001b[0m\u001b[0;34m:\u001b[0m\u001b[0;34m]\u001b[0m\u001b[0;34m)\u001b[0m\u001b[0;34m\u001b[0m\u001b[0;34m\u001b[0m\u001b[0m\n\u001b[0m\u001b[1;32m     11\u001b[0m         \u001b[0;32melse\u001b[0m\u001b[0;34m:\u001b[0m\u001b[0;34m\u001b[0m\u001b[0;34m\u001b[0m\u001b[0m\n\u001b[1;32m     12\u001b[0m             \u001b[0mbacktrack\u001b[0m\u001b[0;34m(\u001b[0m\u001b[0minstance\u001b[0m\u001b[0;34m.\u001b[0m\u001b[0mappend\u001b[0m\u001b[0;34m(\u001b[0m\u001b[0mrest\u001b[0m\u001b[0;34m[\u001b[0m\u001b[0mi\u001b[0m\u001b[0;34m]\u001b[0m\u001b[0;34m)\u001b[0m\u001b[0;34m,\u001b[0m \u001b[0mrest\u001b[0m\u001b[0;34m[\u001b[0m\u001b[0;34m:\u001b[0m\u001b[0mi\u001b[0m\u001b[0;34m]\u001b[0m\u001b[0;34m)\u001b[0m\u001b[0;34m\u001b[0m\u001b[0;34m\u001b[0m\u001b[0m\n",
      "\u001b[0;32m<ipython-input-10-7e724f0ed9e1>\u001b[0m in \u001b[0;36mbacktrack\u001b[0;34m(instance, rest)\u001b[0m\n\u001b[1;32m      8\u001b[0m     \u001b[0;32mfor\u001b[0m \u001b[0mi\u001b[0m \u001b[0;32min\u001b[0m \u001b[0mrange\u001b[0m\u001b[0;34m(\u001b[0m\u001b[0mlen\u001b[0m\u001b[0;34m(\u001b[0m\u001b[0mrest\u001b[0m\u001b[0;34m)\u001b[0m\u001b[0;34m)\u001b[0m\u001b[0;34m:\u001b[0m\u001b[0;34m\u001b[0m\u001b[0;34m\u001b[0m\u001b[0m\n\u001b[1;32m      9\u001b[0m         \u001b[0;32mif\u001b[0m \u001b[0mi\u001b[0m \u001b[0;34m<\u001b[0m \u001b[0mlen\u001b[0m\u001b[0;34m(\u001b[0m\u001b[0mrest\u001b[0m\u001b[0;34m)\u001b[0m \u001b[0;34m-\u001b[0m \u001b[0;36m1\u001b[0m\u001b[0;34m:\u001b[0m\u001b[0;34m\u001b[0m\u001b[0;34m\u001b[0m\u001b[0m\n\u001b[0;32m---> 10\u001b[0;31m             \u001b[0mbacktrack\u001b[0m\u001b[0;34m(\u001b[0m\u001b[0minstance\u001b[0m\u001b[0;34m.\u001b[0m\u001b[0mappend\u001b[0m\u001b[0;34m(\u001b[0m\u001b[0mrest\u001b[0m\u001b[0;34m[\u001b[0m\u001b[0mi\u001b[0m\u001b[0;34m]\u001b[0m\u001b[0;34m)\u001b[0m\u001b[0;34m,\u001b[0m \u001b[0mrest\u001b[0m\u001b[0;34m[\u001b[0m\u001b[0;34m:\u001b[0m\u001b[0mi\u001b[0m\u001b[0;34m]\u001b[0m\u001b[0;34m+\u001b[0m\u001b[0mrest\u001b[0m\u001b[0;34m[\u001b[0m\u001b[0mi\u001b[0m\u001b[0;34m+\u001b[0m\u001b[0;36m1\u001b[0m\u001b[0;34m:\u001b[0m\u001b[0;34m]\u001b[0m\u001b[0;34m)\u001b[0m\u001b[0;34m\u001b[0m\u001b[0;34m\u001b[0m\u001b[0m\n\u001b[0m\u001b[1;32m     11\u001b[0m         \u001b[0;32melse\u001b[0m\u001b[0;34m:\u001b[0m\u001b[0;34m\u001b[0m\u001b[0;34m\u001b[0m\u001b[0m\n\u001b[1;32m     12\u001b[0m             \u001b[0mbacktrack\u001b[0m\u001b[0;34m(\u001b[0m\u001b[0minstance\u001b[0m\u001b[0;34m.\u001b[0m\u001b[0mappend\u001b[0m\u001b[0;34m(\u001b[0m\u001b[0mrest\u001b[0m\u001b[0;34m[\u001b[0m\u001b[0mi\u001b[0m\u001b[0;34m]\u001b[0m\u001b[0;34m)\u001b[0m\u001b[0;34m,\u001b[0m \u001b[0mrest\u001b[0m\u001b[0;34m[\u001b[0m\u001b[0;34m:\u001b[0m\u001b[0mi\u001b[0m\u001b[0;34m]\u001b[0m\u001b[0;34m)\u001b[0m\u001b[0;34m\u001b[0m\u001b[0;34m\u001b[0m\u001b[0m\n",
      "\u001b[0;31mAttributeError\u001b[0m: 'NoneType' object has no attribute 'append'"
     ]
    }
   ],
   "source": [
    "# an error saying: 'NoneType' object has no attribute 'append' at instance.append()\n",
    "# because lst.append() does not return the appended list\n",
    "nums = [1,2,3]\n",
    "res = []\n",
    "def backtrack(instance = [], rest = nums):\n",
    "    print(instance,rest)\n",
    "    if len(rest) == 0:\n",
    "        res.append(instance)\n",
    "        return\n",
    "    for i in range(len(rest)):\n",
    "        if i < len(rest) - 1:\n",
    "            backtrack(instance.append(rest[i]), rest[:i]+rest[i+1:])\n",
    "        else:\n",
    "            backtrack(instance.append(rest[i]), rest[:i])\n",
    "backtrack()\n",
    "print(res)"
   ]
  },
  {
   "cell_type": "code",
   "execution_count": 11,
   "metadata": {},
   "outputs": [
    {
     "name": "stdout",
     "output_type": "stream",
     "text": [
      "None\n"
     ]
    }
   ],
   "source": [
    "# testing\n",
    "nums = [1,2]\n",
    "print(nums.append(3))  # returns None"
   ]
  },
  {
   "cell_type": "code",
   "execution_count": 13,
   "metadata": {},
   "outputs": [],
   "source": [
    "# time and space O(n!*n), because of building n! cases in total, each takes n steps to build.\n",
    "class Solution:\n",
    "    def permute(self, nums: List[int]) -> List[List[int]]:\n",
    "        if nums is None or len(nums) == 0:\n",
    "            return []\n",
    "        res = []\n",
    "        def backtrack(instance = [], rest = nums):\n",
    "            if len(rest) == 0:\n",
    "                res.append(instance)\n",
    "                return\n",
    "            for i in range(len(rest)):\n",
    "                if i < len(rest) - 1:\n",
    "                    backtrack(instance+[rest[i]], rest[:i]+rest[i+1:])\n",
    "                else:\n",
    "                    backtrack(instance+[rest[i]], rest[:i])\n",
    "        backtrack()\n",
    "        return res"
   ]
  },
  {
   "cell_type": "code",
   "execution_count": 23,
   "metadata": {},
   "outputs": [
    {
     "name": "stdout",
     "output_type": "stream",
     "text": [
      "first:  0 [1, 2]\n",
      "i:  0 [1, 2]\n",
      "first:  1 [1, 2]\n",
      "i:  1 [1, 2]\n",
      "first:  2 [1, 2]\n",
      "append [1, 2]\n",
      "[[1, 2]]\n",
      "2nd i:  1 [1, 2]\n",
      "2nd i:  0 [1, 2]\n",
      "i:  1 [2, 1]\n",
      "first:  1 [2, 1]\n",
      "i:  1 [2, 1]\n",
      "first:  2 [2, 1]\n",
      "append [2, 1]\n",
      "[[2, 1], [2, 1]]\n",
      "2nd i:  1 [2, 1]\n",
      "2nd i:  1 [1, 2]\n",
      "[[1, 2], [1, 2]]\n"
     ]
    }
   ],
   "source": [
    "# When trying to copy the solution from leetcode, an strange error occured because of appending res list\n",
    "# with nums instead of nums[:]\n",
    "nums = [1,2]\n",
    "res = []\n",
    "leng = len(nums)\n",
    "def backtrack(first = 0):\n",
    "    print(\"first: \", first, nums)\n",
    "    if first == leng:\n",
    "        print(\"append\", nums)\n",
    "        res.append(nums)\n",
    "        print(res)\n",
    "    for i in range(first, leng):\n",
    "        # swap\n",
    "        nums[i], nums[first] = nums[first], nums[i]\n",
    "        print(\"i: \",i,nums)\n",
    "        # use next index to finish permuation\n",
    "        backtrack(first+1)\n",
    "        # restore the nums list for the next iteration\n",
    "        nums[i], nums[first] = nums[first], nums[i]\n",
    "        print(\"2nd i: \", i,nums)\n",
    "backtrack()\n",
    "print(res)"
   ]
  },
  {
   "cell_type": "markdown",
   "metadata": {},
   "source": [
    "### Important concept:"
   ]
  },
  {
   "cell_type": "code",
   "execution_count": 24,
   "metadata": {},
   "outputs": [
    {
     "name": "stdout",
     "output_type": "stream",
     "text": [
      "[[1, 2]]\n",
      "[2, 1]\n",
      "[[2, 1], [2, 1]]\n"
     ]
    }
   ],
   "source": [
    "# difference of lst and lst[:]\n",
    "test = []\n",
    "nums = [1,2]\n",
    "test.append(nums)\n",
    "print(test)\n",
    "nums[0], nums[1] = nums[1], nums[0]\n",
    "print(nums)\n",
    "test.append(nums)\n",
    "print(test)"
   ]
  },
  {
   "cell_type": "markdown",
   "metadata": {},
   "source": [
    "You can see that by altering nums, both of the test list's entries have been modified."
   ]
  },
  {
   "cell_type": "code",
   "execution_count": 25,
   "metadata": {},
   "outputs": [
    {
     "name": "stdout",
     "output_type": "stream",
     "text": [
      "[[1, 2]]\n",
      "[2, 1]\n",
      "[[1, 2], [2, 1]]\n"
     ]
    }
   ],
   "source": [
    "test = []\n",
    "nums = [1,2]\n",
    "test.append(nums[:])\n",
    "print(test)\n",
    "nums[0], nums[1] = nums[1], nums[0]\n",
    "print(nums)\n",
    "test.append(nums[:])\n",
    "print(test)"
   ]
  },
  {
   "cell_type": "markdown",
   "metadata": {},
   "source": [
    "### Tricky Python list:\n",
    "http://www.effbot.org/zone/python-list.htm  \n"
   ]
  },
  {
   "cell_type": "code",
   "execution_count": 26,
   "metadata": {},
   "outputs": [],
   "source": [
    "A = [1,2]\n",
    "B = A  # both points to the same list, so modifications changes both\n",
    "\n",
    "A[0] = 3  # modifications are in-place\n",
    "\n",
    "# how to create a new list but copys the values?\n",
    "C = A[:]  # independent of A"
   ]
  },
  {
   "cell_type": "code",
   "execution_count": 27,
   "metadata": {},
   "outputs": [],
   "source": [
    "# this method could be a little faster... refer to the formulas in leetcode\n",
    "class Solution:\n",
    "    def permute(self, nums: List[int]) -> List[List[int]]:\n",
    "        res = []\n",
    "        leng = len(nums)\n",
    "        def backtrack(first = 0):\n",
    "            if first == leng:\n",
    "                res.append(nums[:])\n",
    "                return\n",
    "            for i in range(first, leng):\n",
    "                # swap\n",
    "                nums[i], nums[first] = nums[first], nums[i]\n",
    "                # use next index to finish permuation\n",
    "                backtrack(first+1)\n",
    "                # restore the nums list for the next iteration\n",
    "                nums[i], nums[first] = nums[first], nums[i]\n",
    "        backtrack()\n",
    "        return res"
   ]
  },
  {
   "cell_type": "markdown",
   "metadata": {},
   "source": [
    "## 78. Subsets"
   ]
  },
  {
   "cell_type": "code",
   "execution_count": 3,
   "metadata": {},
   "outputs": [],
   "source": [
    "# recursive solution:\n",
    "# solution for n elements is equal to solution for (n-1) elements (latter ones) plus them adding the first element.\n",
    "# space: O(2^n); time: T(n) = T(n-1) + 2^(n-1) => O(2^n) ???\n",
    "class Solution:\n",
    "    def subsets(self, nums: List[int]) -> List[List[int]]:\n",
    "        leng = len(nums)\n",
    "        if leng == 0:\n",
    "            return [[]]\n",
    "        tmp = self.subsets(nums[1:])\n",
    "        # add nums[0] to every element of tmp\n",
    "        include = []\n",
    "        for lst in tmp:\n",
    "            include.append([nums[0]]+lst)\n",
    "        \n",
    "        lst = tmp + include\n",
    "        return lst"
   ]
  },
  {
   "cell_type": "code",
   "execution_count": 5,
   "metadata": {},
   "outputs": [
    {
     "name": "stdout",
     "output_type": "stream",
     "text": [
      "[[], [1], [2], [1, 2], [3], [1, 3], [2, 3], [1, 2, 3]]\n"
     ]
    }
   ],
   "source": [
    "# a more straightforward way for the above method is: (leetcode solution)\n",
    "nums = [1,2,3]\n",
    "n = len(nums)\n",
    "output = [[]]\n",
    "\n",
    "for num in nums:\n",
    "    output += [curr + [num] for curr in output]\n",
    "\n",
    "print(output)"
   ]
  },
  {
   "cell_type": "markdown",
   "metadata": {},
   "source": [
    "Actually the time and space complexity for the above solution is O(n*2^n). The space for each single solution is O(n). And the time to copy an array is O(n). So from \"tmp\" to \"include\", each iteration in the for loop would cost O(n)."
   ]
  },
  {
   "cell_type": "markdown",
   "metadata": {},
   "source": [
    "### Generate all possible bitmasks of length n"
   ]
  },
  {
   "cell_type": "code",
   "execution_count": 12,
   "metadata": {},
   "outputs": [
    {
     "name": "stdout",
     "output_type": "stream",
     "text": [
      "0b1000 000\n",
      "0b1001 001\n",
      "0b1010 010\n",
      "0b1011 011\n",
      "0b1100 100\n",
      "0b1101 101\n",
      "0b1110 110\n",
      "0b1111 111\n",
      "<class 'str'>\n"
     ]
    }
   ],
   "source": [
    "n = 3\n",
    "nth_bit = 1 << n\n",
    "for i in range(2**n):\n",
    "    # generate bitmask, from 0..00 to 1..11\n",
    "    tmp = bin(i | nth_bit)  # integer to bit string (start with '0b')\n",
    "    bitmask = bin(i | nth_bit)[3:]  # delete the first three char\n",
    "    print(tmp, bitmask)\n",
    "print(type(bitmask))\n",
    "# or\n",
    "for i in range(2**n, 2**(n + 1)):\n",
    "    # generate bitmask, from 0..00 to 1..11\n",
    "    bitmask = bin(i)[3:]"
   ]
  },
  {
   "cell_type": "code",
   "execution_count": null,
   "metadata": {},
   "outputs": [],
   "source": [
    "# using bitmask to generate is very intuitive: (leetcode)"
   ]
  },
  {
   "cell_type": "markdown",
   "metadata": {},
   "source": [
    "## 79. Word Search\n",
    "A tricky one. Usually using recursive approach is more intuitive for backtracking."
   ]
  },
  {
   "cell_type": "code",
   "execution_count": 13,
   "metadata": {},
   "outputs": [],
   "source": [
    "# to do:\n",
    "\n"
   ]
  },
  {
   "cell_type": "code",
   "execution_count": null,
   "metadata": {},
   "outputs": [],
   "source": []
  }
 ],
 "metadata": {
  "kernelspec": {
   "display_name": "Python 3",
   "language": "python",
   "name": "python3"
  },
  "language_info": {
   "codemirror_mode": {
    "name": "ipython",
    "version": 3
   },
   "file_extension": ".py",
   "mimetype": "text/x-python",
   "name": "python",
   "nbconvert_exporter": "python",
   "pygments_lexer": "ipython3",
   "version": "3.7.4"
  }
 },
 "nbformat": 4,
 "nbformat_minor": 2
}
