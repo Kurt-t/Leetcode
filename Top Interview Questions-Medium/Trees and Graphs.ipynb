{
 "cells": [
  {
   "cell_type": "markdown",
   "metadata": {},
   "source": [
    "## 94. Binary Tree Inorder Traversal"
   ]
  },
  {
   "cell_type": "markdown",
   "metadata": {},
   "source": [
    "***Pre-order Traversal***:  \n",
    "current node -> left subtree -> right subtree  \n",
    "***In-order Traversal***:  \n",
    "left subtree -> current node -> right subtree  \n",
    "***Post-order Traversal***:  \n",
    "left subtree -> right subtree -> current node"
   ]
  },
  {
   "cell_type": "code",
   "execution_count": 3,
   "metadata": {},
   "outputs": [],
   "source": [
    "from typing import List"
   ]
  },
  {
   "cell_type": "code",
   "execution_count": 4,
   "metadata": {},
   "outputs": [],
   "source": [
    "# Recursive solution: time O(n) and space O(n). Why in leetcode solution it said average space is O(logn)?\n",
    "# Definition for a binary tree node.\n",
    "class TreeNode:\n",
    "    def __init__(self, val=0, left=None, right=None):\n",
    "        self.val = val\n",
    "        self.left = left\n",
    "        self.right = right\n",
    "class Solution:\n",
    "    def inorderTraversal(self, root: TreeNode) -> List[int]:\n",
    "        if root is None:\n",
    "            return []\n",
    "        else:\n",
    "            curr = [root.val]\n",
    "            left_tree = self.inorderTraversal(root.left)\n",
    "            right_tree = self.inorderTraversal(root.right)\n",
    "            return left_tree + curr + right_tree"
   ]
  },
  {
   "cell_type": "code",
   "execution_count": 6,
   "metadata": {},
   "outputs": [
    {
     "name": "stdout",
     "output_type": "stream",
     "text": [
      "3\n",
      "[1, 2, 4]\n"
     ]
    }
   ],
   "source": [
    "# Using list as a stack in python\n",
    "stack = [1,2,3]\n",
    "print(stack.pop())\n",
    "stack.append(4)\n",
    "print(stack)\n",
    "stack = []\n",
    "# print(stack.pop())  # return an IndexError"
   ]
  },
  {
   "cell_type": "code",
   "execution_count": 7,
   "metadata": {},
   "outputs": [],
   "source": [
    "# Iterative solution: this one is tricky!!!\n",
    "# time and space O(n)\n",
    "class TreeNode:\n",
    "    def __init__(self, val=0, left=None, right=None):\n",
    "        self.val = val\n",
    "        self.left = left\n",
    "        self.right = right\n",
    "class Solution:\n",
    "    def inorderTraversal(self, root: TreeNode) -> List[int]:\n",
    "        if root is None:\n",
    "            return []\n",
    "        stack = []  # stack of nodes\n",
    "        res = []  # output, list of values\n",
    "        curr = root\n",
    "        # tricky point: guarantee that do not repeatedly add left nodes to the stack\n",
    "        while len(stack) != 0 or curr is not None:\n",
    "            while curr is not None:\n",
    "                stack.append(curr)\n",
    "                curr = curr.left\n",
    "            curr = stack.pop()\n",
    "            res.append(curr.val)\n",
    "            curr = curr.right  # if the popped node has no child, curr is None, and next iter will directly pop the stack rather than adding the parent's left child\n",
    "        return res"
   ]
  },
  {
   "cell_type": "markdown",
   "metadata": {},
   "source": [
    "### Do a pre-order and post-order traverse using iterative method?"
   ]
  },
  {
   "cell_type": "code",
   "execution_count": null,
   "metadata": {},
   "outputs": [],
   "source": []
  },
  {
   "cell_type": "markdown",
   "metadata": {},
   "source": [
    "## 103. Binary Tree Zigzag Level Order Traversal"
   ]
  },
  {
   "cell_type": "code",
   "execution_count": 8,
   "metadata": {},
   "outputs": [
    {
     "name": "stdout",
     "output_type": "stream",
     "text": [
      "[1, 2, 3, 4]\n",
      "[2, 3, 4]\n"
     ]
    }
   ],
   "source": [
    "# using list as a queue\n",
    "queue = [1,2,3]\n",
    "queue.append(4)\n",
    "print(queue)\n",
    "queue.pop(0)  # pop() default input is -1, which is in the stack case\n",
    "print(queue)"
   ]
  },
  {
   "cell_type": "markdown",
   "metadata": {},
   "source": [
    "Note that for a list, time for append( ) is $O(1)$, pop(-1) or default pop( ) is $O(1)$, but pop(0) is $O(n)$."
   ]
  },
  {
   "cell_type": "code",
   "execution_count": 10,
   "metadata": {},
   "outputs": [
    {
     "name": "stdout",
     "output_type": "stream",
     "text": [
      "[None]\n",
      "False\n"
     ]
    }
   ],
   "source": [
    "# will list store None (null)?\n",
    "lst = []\n",
    "lst.append(None)\n",
    "print(lst)\n",
    "print(lst == [])"
   ]
  },
  {
   "cell_type": "code",
   "execution_count": 11,
   "metadata": {},
   "outputs": [],
   "source": [
    "# BFS\n",
    "# Because of the zigzag, use stack instead of queue here. Also, because have to put each level into a\n",
    "# separate bucket/list, use 2 stacks here, one for the current level, one for storing the next level.\n",
    "# Definition for a binary tree node.\n",
    "class TreeNode:\n",
    "    def __init__(self, val=0, left=None, right=None):\n",
    "        self.val = val\n",
    "        self.left = left\n",
    "        self.right = right\n",
    "class Solution:\n",
    "    def zigzagLevelOrder(self, root: TreeNode) -> List[List[int]]:\n",
    "        if root is None:\n",
    "            return []\n",
    "        odd = -1  # flag of next depth is odd or not\n",
    "        res = []\n",
    "        curr_level = []  # record the values of the current level\n",
    "        stack = []\n",
    "        stack_next = []  # stack of next depth\n",
    "        stack.append(root)\n",
    "        while len(stack) != 0 or len(stack_next) != 0:\n",
    "            if len(stack) == 0:  # this depth is completed\n",
    "                # record and update\n",
    "                res.append(curr_level)\n",
    "                curr_level = []\n",
    "                stack = stack_next\n",
    "                stack_next = []\n",
    "                odd = odd * (-1)\n",
    "            # now queue is not empty\n",
    "            curr = stack.pop()\n",
    "            curr_level.append(curr.val)\n",
    "            if odd == -1:  # next depth is even\n",
    "                if curr.left is not None:\n",
    "                    stack_next.append(curr.left)\n",
    "                if curr.right is not None:\n",
    "                    stack_next.append(curr.right)\n",
    "            else:\n",
    "                if curr.right is not None:\n",
    "                    stack_next.append(curr.right)\n",
    "                if curr.left is not None:\n",
    "                    stack_next.append(curr.left)\n",
    "        # lowest level curr_level is not added to res\n",
    "        res.append(curr_level)\n",
    "        return res"
   ]
  },
  {
   "cell_type": "code",
   "execution_count": 12,
   "metadata": {},
   "outputs": [],
   "source": [
    "'''The leetcode solution of BFS use a deque (double-ended queue)\n",
    "'''\n",
    "from collections import deque\n",
    "\n",
    "'''But the solution only use the appendleft function of the level_list deque to reverse the list in result. The\n",
    "sequence of visiting the nodes is probably normal BFS order.\n",
    "'''"
   ]
  },
  {
   "cell_type": "markdown",
   "metadata": {},
   "source": [
    "The insertion operation on either end of the deque takes a constant time, rather than using the array/list data structure where the inserting at the head could take the $O(K)$ time where $K$ is the length of the list."
   ]
  },
  {
   "cell_type": "code",
   "execution_count": 23,
   "metadata": {},
   "outputs": [
    {
     "name": "stdout",
     "output_type": "stream",
     "text": [
      "deque([1, 2])\n",
      "deque([1, 2, 3])\n",
      "1\n",
      "deque([2, 3])\n",
      "2\n"
     ]
    }
   ],
   "source": [
    "dq = deque([1,2])\n",
    "print(dq)\n",
    "dq.append(3)\n",
    "print(dq)\n",
    "print(dq.popleft())\n",
    "print(dq)\n",
    "print(len(dq))  # can use len()"
   ]
  },
  {
   "cell_type": "code",
   "execution_count": 13,
   "metadata": {},
   "outputs": [
    {
     "name": "stdout",
     "output_type": "stream",
     "text": [
      "False\n",
      "True\n"
     ]
    }
   ],
   "source": [
    "# a technique for zigzagging a bool\n",
    "flag = True\n",
    "flag = not flag\n",
    "print(flag)\n",
    "flag = not flag\n",
    "print(flag)"
   ]
  },
  {
   "cell_type": "markdown",
   "metadata": {},
   "source": [
    "### Further improvement: should try to use one stack to implement this (by means of a delimiter None)"
   ]
  },
  {
   "cell_type": "markdown",
   "metadata": {},
   "source": [
    "## 105. Construct Binary Tree from Preorder and Inorder Traversal"
   ]
  },
  {
   "cell_type": "code",
   "execution_count": 14,
   "metadata": {},
   "outputs": [
    {
     "name": "stdout",
     "output_type": "stream",
     "text": [
      "[]\n"
     ]
    }
   ],
   "source": [
    "# test with list slicing\n",
    "test = [1,2]\n",
    "x = test[0:0]\n",
    "print(x)\n",
    "# lst[i:i] returns [], instead of an error!"
   ]
  },
  {
   "cell_type": "code",
   "execution_count": 15,
   "metadata": {},
   "outputs": [],
   "source": [
    "# Recursive: worst case time should be O(n^2), which is a tree with only left child and left grandchild. The time is\n",
    "# spent on finding preorder[0] in inorder in each function call.\n",
    "# Or it should be O(nlogn) because T(n) = 2T(1/2*n) + O(n)???\n",
    "# Definition for a binary tree node.\n",
    "class TreeNode:\n",
    "    def __init__(self, val=0, left=None, right=None):\n",
    "        self.val = val\n",
    "        self.left = left\n",
    "        self.right = right\n",
    "class Solution:\n",
    "    def buildTree(self, preorder: List[int], inorder: List[int]) -> TreeNode:\n",
    "        if preorder is None or preorder == []:\n",
    "            return None\n",
    "        root = TreeNode(preorder[0])\n",
    "        # find the place of preorder[0] in inorder and split\n",
    "        for i in range(len(inorder)):\n",
    "            if inorder[i] == preorder[0]:\n",
    "                left_in = inorder[:i]\n",
    "                right_in = inorder[i+1:]\n",
    "        left_len = len(left_in)\n",
    "        left_pre = preorder[1:1+left_len]\n",
    "        right_pre = preorder[1+left_len:]\n",
    "        root.left = self.buildTree(left_pre, left_in)\n",
    "        root.right = self.buildTree(right_pre, right_in)\n",
    "        return root"
   ]
  },
  {
   "cell_type": "markdown",
   "metadata": {},
   "source": [
    "What is the time complexity of the above solution?"
   ]
  },
  {
   "cell_type": "code",
   "execution_count": 16,
   "metadata": {},
   "outputs": [],
   "source": [
    "# The leetcode solution use a hashmap for inorder list and reduce time to O(n)\n",
    "# The trick is how to pass the very single hashmap to all recursive calls"
   ]
  },
  {
   "cell_type": "code",
   "execution_count": 17,
   "metadata": {},
   "outputs": [
    {
     "name": "stdout",
     "output_type": "stream",
     "text": [
      "{3: 0, 2: 1, 1: 2}\n"
     ]
    }
   ],
   "source": [
    "# how to build a index map for a list in one line\n",
    "inorder = [3,2,1]\n",
    "idx_map = {val:idx for idx, val in enumerate(inorder)}\n",
    "print(idx_map)"
   ]
  },
  {
   "cell_type": "code",
   "execution_count": 18,
   "metadata": {},
   "outputs": [],
   "source": [
    "# The leetcode solution uses a function in function, which is very complex to me\n",
    "# The following is a solution I implemented\n",
    "# Because of the hash map, searching index is O(1), so overall it takes O(n) time.\n",
    "class TreeNode:\n",
    "    def __init__(self, val=0, left=None, right=None):\n",
    "        self.val = val\n",
    "        self.left = left\n",
    "        self.right = right\n",
    "class Solution:\n",
    "    # inorder is the whole, preorder is not; in_start is the begin index of inorder this recursive call\n",
    "    def constructTree(self, idx_map, preorder, inorder, in_start):\n",
    "        if preorder == []:\n",
    "            return None\n",
    "        node = TreeNode(preorder[0])\n",
    "        in_idx = idx_map[preorder[0]]\n",
    "        leng = in_idx - in_start  # length of both lists\n",
    "        left_pre = preorder[1:1+leng]\n",
    "        right_pre = preorder[1+leng:]\n",
    "        node.left = self.constructTree(idx_map, left_pre, inorder, in_start)\n",
    "        node.right = self.constructTree(idx_map, right_pre, inorder, in_idx+1)\n",
    "        return node\n",
    "    \n",
    "    def buildTree(self, preorder: List[int], inorder: List[int]) -> TreeNode:\n",
    "        if preorder is None or preorder == []:\n",
    "            return None\n",
    "        idx_map = {val:idx for idx, val in enumerate(inorder)}\n",
    "        root = self.constructTree(idx_map, preorder, inorder, 0)\n",
    "        return root"
   ]
  },
  {
   "cell_type": "markdown",
   "metadata": {},
   "source": [
    "## 116. Populating Next Right Pointers in Each Node"
   ]
  },
  {
   "cell_type": "code",
   "execution_count": 24,
   "metadata": {},
   "outputs": [],
   "source": [
    "# use a queue to BFS the tree and use NULL to delimit each layer, link nodes one by one\n",
    "# time and space O(n)\n",
    "# Definition for a Node.\n",
    "class Node:\n",
    "    def __init__(self, val: int = 0, left: 'Node' = None, right: 'Node' = None, next: 'Node' = None):\n",
    "        self.val = val\n",
    "        self.left = left\n",
    "        self.right = right\n",
    "        self.next = next\n",
    "\n",
    "from collections import deque\n",
    "class Solution:\n",
    "    def connect(self, root: 'Node') -> 'Node':\n",
    "        if root is None:\n",
    "            return None\n",
    "        queue = deque([root, None])\n",
    "        curr_prev = None\n",
    "        while True:\n",
    "            curr = queue.popleft()\n",
    "            # link\n",
    "            if curr_prev:\n",
    "                curr_prev.next = curr\n",
    "            curr_prev = curr\n",
    "            if curr is None:\n",
    "                if len(queue) == 0:  # the end\n",
    "                    break\n",
    "                else:\n",
    "                    queue.append(None)  # the next layer is complete, add a delimiter\n",
    "            else:  # not a null node\n",
    "                if curr.left:\n",
    "                    queue.append(curr.left)\n",
    "                if curr.right:\n",
    "                    queue.append(curr.right)    \n",
    "        return root"
   ]
  },
  {
   "cell_type": "code",
   "execution_count": 25,
   "metadata": {},
   "outputs": [
    {
     "name": "stdout",
     "output_type": "stream",
     "text": [
      "1\n"
     ]
    }
   ],
   "source": [
    "# can access the queue's first element without poping it\n",
    "queue = deque([1,2])\n",
    "print(queue[0])"
   ]
  },
  {
   "cell_type": "markdown",
   "metadata": {},
   "source": [
    "The solution in leetcode is more intuitive, and don't need to insert Null as delimiter."
   ]
  },
  {
   "cell_type": "markdown",
   "metadata": {},
   "source": [
    "### Can you implement the O(1) space solution?"
   ]
  },
  {
   "cell_type": "markdown",
   "metadata": {},
   "source": [
    "## 230. Kth Smallest Element in a BST"
   ]
  },
  {
   "cell_type": "code",
   "execution_count": 26,
   "metadata": {},
   "outputs": [],
   "source": [
    "# inorder BFS and get the whole array, then access the k-th element\n",
    "# time and space O(n)\n",
    "# Definition for a binary tree node.\n",
    "class TreeNode:\n",
    "    def __init__(self, val=0, left=None, right=None):\n",
    "        self.val = val\n",
    "        self.left = left\n",
    "        self.right = right\n",
    "class Solution:\n",
    "    def inorderBFS(self, root):\n",
    "        if not root:\n",
    "            return []\n",
    "        else:\n",
    "            return self.inorderBFS(root.left) + [root.val] + self.inorderBFS(root.right)\n",
    "        \n",
    "    def kthSmallest(self, root: TreeNode, k: int) -> int:\n",
    "        lst = self.inorderBFS(root)\n",
    "        return lst[k - 1]"
   ]
  },
  {
   "cell_type": "code",
   "execution_count": 27,
   "metadata": {},
   "outputs": [],
   "source": [
    "# iterative (stack) solution, with better time and space complexity:\n",
    "# Time: O(H+k), where H is the height of the tree, and k is the input argument. So the time spans from\n",
    "# O(logn+k) to O(n+k), which is from a balanced tree and a completely unbalanced tree.\n",
    "# Space: O(H), as the stack stores the so many nodes. It spans from O(logn) for the average case of a balanced tree to\n",
    "# O(n) as in a skewed tree.\n",
    "class TreeNode:\n",
    "    def __init__(self, val=0, left=None, right=None):\n",
    "        self.val = val\n",
    "        self.left = left\n",
    "        self.right = right\n",
    "class Solution:\n",
    "    def kthSmallest(self, root: TreeNode, k: int) -> int:\n",
    "        stack = []\n",
    "        \n",
    "        while True:\n",
    "            while root:\n",
    "                stack.append(root)\n",
    "                root = root.left\n",
    "            root = stack.pop()\n",
    "            k -= 1\n",
    "            if k == 0:\n",
    "                return root.val\n",
    "            root = root.right"
   ]
  },
  {
   "cell_type": "markdown",
   "metadata": {},
   "source": [
    "Remember the above implementation. It's concise but tricky!"
   ]
  },
  {
   "cell_type": "markdown",
   "metadata": {},
   "source": [
    "## 285. Inorder Successor in BST"
   ]
  },
  {
   "cell_type": "code",
   "execution_count": 28,
   "metadata": {},
   "outputs": [],
   "source": [
    "# use inorder BFS to traverse the whole tree, then scan the list and find the next one.\n",
    "# Time and space O(n).\n",
    "# Definition for a binary tree node.\n",
    "class TreeNode:\n",
    "    def __init__(self, x):\n",
    "        self.val = x\n",
    "        self.left = None\n",
    "        self.right = None\n",
    "\n",
    "class Solution:\n",
    "    def inorderBFS(self, root):\n",
    "        if not root:\n",
    "            return []\n",
    "        else:\n",
    "            return self.inorderBFS(root.left) + [root] + self.inorderBFS(root.right)  # store the node\n",
    "        \n",
    "    def inorderSuccessor(self, root: 'TreeNode', p: 'TreeNode') -> 'TreeNode':\n",
    "        if not root:\n",
    "            return None\n",
    "        if not p:\n",
    "            return None\n",
    "        lst = self.inorderBFS(root)\n",
    "        leng = len(lst)\n",
    "        for i in range(leng):\n",
    "            if lst[i] == p:\n",
    "                if i < leng - 1:\n",
    "                    return lst[i + 1]\n",
    "                else:\n",
    "                    return None"
   ]
  },
  {
   "cell_type": "code",
   "execution_count": 29,
   "metadata": {},
   "outputs": [],
   "source": [
    "# a solution in the discussion that does not need a stack/recursion.\n",
    "# time: since the curr node keeps going down, it's O(H), H for the height. Worse case is still O(n) for a fully skewed\n",
    "# tree.\n",
    "# space: O(1), which is a major improvement.\n",
    "class Solution:\n",
    "    def inorderSuccessor(self, root: 'TreeNode', p: 'TreeNode') -> 'TreeNode':\n",
    "        candidate = None\n",
    "        curr = root\n",
    "        \n",
    "        while curr:\n",
    "            if (curr.val > p.val):  # then curr is a candidate\n",
    "                candidate = curr\n",
    "                curr = curr.left  # better answer must be in left subtree if any\n",
    "            else:  # curr.val <= p.val\n",
    "                # better answer must be in right subtree if any\n",
    "                curr = curr.right\n",
    "        return candidate  # could be None"
   ]
  },
  {
   "cell_type": "markdown",
   "metadata": {},
   "source": [
    "## 200. Number of Islands"
   ]
  },
  {
   "cell_type": "code",
   "execution_count": 30,
   "metadata": {},
   "outputs": [
    {
     "name": "stdout",
     "output_type": "stream",
     "text": [
      "True\n"
     ]
    }
   ],
   "source": [
    "# test string comparison\n",
    "test = \"1\"\n",
    "print(\"1\" == test)"
   ]
  },
  {
   "cell_type": "code",
   "execution_count": 31,
   "metadata": {},
   "outputs": [
    {
     "name": "stdout",
     "output_type": "stream",
     "text": [
      "(1, 2)\n",
      "1 2\n"
     ]
    }
   ],
   "source": [
    "# stack that stores a tuple\n",
    "stack = [(1,2)]\n",
    "print(stack[0])\n",
    "i, j = stack.pop()\n",
    "print(i, j)"
   ]
  },
  {
   "cell_type": "code",
   "execution_count": 32,
   "metadata": {},
   "outputs": [],
   "source": [
    "# If find a \"1\", use a stack to search the whole island, and turn them to 0 when popping. If stack\n",
    "# gets empty, island+1. (This should belong to DFS)\n",
    "# time O(nm) for searching the whole 2D grid map. space: O(k) for the stack, where k is the area of largest island.\n",
    "# space worse case is then O(nm).\n",
    "# maybe should change grid[i][j] to \"0\" when adding it to stack, otherwise there might be duplicate nodes\n",
    "# in the stack.\n",
    "class Solution:\n",
    "    def numIslands(self, grid: List[List[str]]) -> int:\n",
    "        if grid is None or grid == []:\n",
    "            return 0\n",
    "        n = len(grid)\n",
    "        m = len(grid[0])\n",
    "        if m == 0:\n",
    "            return 0\n",
    "        island = 0\n",
    "        for i in range(n):\n",
    "            for j in range(m):\n",
    "                # grid[i][j]\n",
    "                if grid[i][j] == \"1\":\n",
    "                    stack = [(i,j)]  # store the indices\n",
    "                    while len(stack):\n",
    "                        p, q = stack.pop()\n",
    "                        grid[p][q] = \"0\"  # change to \"0\"\n",
    "                        if q > 0 and grid[p][q-1] == \"1\":\n",
    "                            stack.append((p, q-1))\n",
    "                        if q < m-1 and grid[p][q+1] == \"1\":\n",
    "                            stack.append((p, q+1))\n",
    "                        if p > 0 and grid[p-1][q] == \"1\":\n",
    "                            stack.append((p-1, q))\n",
    "                        if p < n-1 and grid[p+1][q] == \"1\":\n",
    "                            stack.append((p+1,q))\n",
    "                    island += 1\n",
    "        return island"
   ]
  },
  {
   "cell_type": "code",
   "execution_count": 33,
   "metadata": {},
   "outputs": [],
   "source": [
    "# change to \"0\" when adding to stack\n",
    "class Solution:\n",
    "    def numIslands(self, grid: List[List[str]]) -> int:\n",
    "        if grid is None or grid == []:\n",
    "            return 0\n",
    "        n = len(grid)\n",
    "        m = len(grid[0])\n",
    "        if m == 0:\n",
    "            return 0\n",
    "        island = 0\n",
    "        for i in range(n):\n",
    "            for j in range(m):\n",
    "                # grid[i][j]\n",
    "                if grid[i][j] == \"1\":\n",
    "                    stack = [(i,j)]  # store the indices\n",
    "                    grid[i][j] = \"0\"  # change to \"0\"\n",
    "                    while len(stack):\n",
    "                        p, q = stack.pop()\n",
    "                        if q > 0 and grid[p][q-1] == \"1\":\n",
    "                            stack.append((p, q-1))\n",
    "                            grid[p][q-1] = \"0\"  # change to \"0\"\n",
    "                        if q < m-1 and grid[p][q+1] == \"1\":\n",
    "                            stack.append((p, q+1))\n",
    "                            grid[p][q+1] = \"0\"  # change to \"0\"\n",
    "                        if p > 0 and grid[p-1][q] == \"1\":\n",
    "                            stack.append((p-1, q))\n",
    "                            grid[p-1][q] = \"0\"  # change to \"0\"\n",
    "                        if p < n-1 and grid[p+1][q] == \"1\":\n",
    "                            stack.append((p+1,q))\n",
    "                            grid[p+1][q] = \"0\"  # change to \"0\"\n",
    "                    island += 1\n",
    "        return island"
   ]
  },
  {
   "cell_type": "markdown",
   "metadata": {},
   "source": [
    "If using a queue here, it would be BFS, and according to leetcode solution, the space will reduce to O(min(n,m))."
   ]
  },
  {
   "cell_type": "code",
   "execution_count": null,
   "metadata": {},
   "outputs": [],
   "source": []
  }
 ],
 "metadata": {
  "kernelspec": {
   "display_name": "Python 3",
   "language": "python",
   "name": "python3"
  },
  "language_info": {
   "codemirror_mode": {
    "name": "ipython",
    "version": 3
   },
   "file_extension": ".py",
   "mimetype": "text/x-python",
   "name": "python",
   "nbconvert_exporter": "python",
   "pygments_lexer": "ipython3",
   "version": "3.7.4"
  }
 },
 "nbformat": 4,
 "nbformat_minor": 2
}
