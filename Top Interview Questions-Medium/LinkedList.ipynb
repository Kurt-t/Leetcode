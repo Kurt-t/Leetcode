{
 "cells": [
  {
   "cell_type": "markdown",
   "metadata": {},
   "source": [
    "## 2. Add Two Numbers"
   ]
  },
  {
   "cell_type": "code",
   "execution_count": 4,
   "metadata": {},
   "outputs": [],
   "source": [
    "# convert and add, then convert back. Time O(n), n is the digit number of the sum. Space O(n).\n",
    "# Definition for singly-linked list.\n",
    "class ListNode:\n",
    "    def __init__(self, val=0, next=None):\n",
    "        self.val = val\n",
    "        self.next = next\n",
    "class Solution:\n",
    "    def node2int(self, node):\n",
    "        num = 0\n",
    "        digit = 0\n",
    "        while node is not None:\n",
    "            num += 10**digit * node.val\n",
    "            node = node.next\n",
    "            digit += 1\n",
    "        return num\n",
    "    \n",
    "    def int2node(self, num):\n",
    "        if num == 0:\n",
    "            return ListNode(0)\n",
    "        nodelist = ListNode(num % 10)\n",
    "        num = num // 10\n",
    "        node = nodelist\n",
    "        while num != 0:\n",
    "            tmpnode = ListNode(num % 10)\n",
    "            node.next = tmpnode\n",
    "            node = tmpnode\n",
    "            num = num // 10\n",
    "        return nodelist\n",
    "            \n",
    "    def addTwoNumbers(self, l1: ListNode, l2: ListNode) -> ListNode:\n",
    "        num1 = self.node2int(l1)\n",
    "        num2 = self.node2int(l2)\n",
    "        num = num1 + num2\n",
    "        nodelist = self.int2node(num)\n",
    "        return nodelist"
   ]
  },
  {
   "cell_type": "markdown",
   "metadata": {},
   "source": [
    "## 328. Odd Even Linked List"
   ]
  },
  {
   "cell_type": "code",
   "execution_count": 3,
   "metadata": {},
   "outputs": [],
   "source": [
    "# Two pointer approach: time O(n) and in-place, so space O(1).\n",
    "# Definition for singly-linked list.\n",
    "class ListNode:\n",
    "    def __init__(self, val=0, next=None):\n",
    "        self.val = val\n",
    "        self.next = next\n",
    "class Solution:\n",
    "    def oddEvenList(self, head: ListNode) -> ListNode:\n",
    "        if head is None:\n",
    "            return None\n",
    "        elif head.next is None:\n",
    "            return head\n",
    "        # at least 2 nodes\n",
    "        addpoint = head  # add to its next\n",
    "        delpoint = head.next  # delete its next\n",
    "        while delpoint.next is not None:\n",
    "            # move node to addpoint's next\n",
    "            tmp = delpoint.next\n",
    "            delpoint.next = tmp.next\n",
    "            tmp.next = addpoint.next\n",
    "            addpoint.next = tmp\n",
    "            # update delpoint and addpoint\n",
    "            if delpoint.next is None:\n",
    "                break\n",
    "            else:\n",
    "                delpoint = delpoint.next\n",
    "            addpoint = addpoint.next\n",
    "        return head"
   ]
  },
  {
   "cell_type": "markdown",
   "metadata": {},
   "source": [
    "## 160. Intersection of Two Linked Lists\n",
    "A tricky one to find a O(1) space solution."
   ]
  },
  {
   "cell_type": "code",
   "execution_count": 5,
   "metadata": {},
   "outputs": [],
   "source": [
    "# Can use hash map to achieve time O(m+n), but requires space O(n).\n",
    "# A Two Pointer approach which is very tricky.\n",
    "# Definition for singly-linked list.\n",
    "class ListNode:\n",
    "    def __init__(self, x):\n",
    "        self.val = x\n",
    "        self.next = None\n",
    "\n",
    "class Solution:\n",
    "    def getIntersectionNode(self, headA: ListNode, headB: ListNode) -> ListNode:\n",
    "        # learned from bug that node list can be empty\n",
    "        if headA is None or headB is None:\n",
    "            return None\n",
    "        pA = headA\n",
    "        pB = headB\n",
    "        while pA.next is not None:\n",
    "            pA = pA.next\n",
    "        while pB.next is not None:\n",
    "            pB = pB.next\n",
    "        # now pA and pB points to each's last node, respectively\n",
    "        if pA != pB:\n",
    "            return None  # no intersection, so last nodes are different\n",
    "        # otherwise, begin traversing from the start, but go to headB when pA reaches the end\n",
    "        pA = headA\n",
    "        pB = headB\n",
    "        while True:\n",
    "            if pA == pB:\n",
    "                return pA\n",
    "            else:\n",
    "                if pA.next is None:\n",
    "                    pA = headB\n",
    "                else:\n",
    "                    pA = pA.next\n",
    "                if pB.next is None:\n",
    "                    pB = headA\n",
    "                else:\n",
    "                    pB = pB.next"
   ]
  },
  {
   "cell_type": "code",
   "execution_count": 7,
   "metadata": {},
   "outputs": [
    {
     "data": {
      "text/plain": [
       "'A more intuitive approach is to first traverse the two linked list and get their lengths.\\nThen get the difference between the length and let the longer one traverse this distance first.\\n'"
      ]
     },
     "execution_count": 7,
     "metadata": {},
     "output_type": "execute_result"
    }
   ],
   "source": [
    "'''A more intuitive approach is to first traverse the two linked list and get their lengths.\n",
    "Then get the difference between the length and let the longer one traverse this distance first.\n",
    "'''"
   ]
  },
  {
   "cell_type": "code",
   "execution_count": null,
   "metadata": {},
   "outputs": [],
   "source": []
  }
 ],
 "metadata": {
  "kernelspec": {
   "display_name": "Python 3",
   "language": "python",
   "name": "python3"
  },
  "language_info": {
   "codemirror_mode": {
    "name": "ipython",
    "version": 3
   },
   "file_extension": ".py",
   "mimetype": "text/x-python",
   "name": "python",
   "nbconvert_exporter": "python",
   "pygments_lexer": "ipython3",
   "version": "3.7.4"
  }
 },
 "nbformat": 4,
 "nbformat_minor": 2
}
