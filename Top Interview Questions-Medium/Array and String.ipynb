{
 "cells": [
  {
   "cell_type": "code",
   "execution_count": 9,
   "metadata": {},
   "outputs": [],
   "source": [
    "from typing import List"
   ]
  },
  {
   "cell_type": "markdown",
   "metadata": {},
   "source": [
    "## 11. Container With Most Water"
   ]
  },
  {
   "cell_type": "code",
   "execution_count": 10,
   "metadata": {},
   "outputs": [],
   "source": [
    "# Brutal Force\n",
    "# cannot pass all test cases due to time limit\n",
    "class Solution:\n",
    "    def return_min(self, x, y):\n",
    "        if x < y:\n",
    "            return x\n",
    "        else:\n",
    "            return y\n",
    "    \n",
    "    def maxArea(self, height: List[int]) -> int:\n",
    "        max = 0\n",
    "        leng = len(height)\n",
    "        for i in range(0,leng - 1):\n",
    "            for j in range(i + 1, leng):\n",
    "                tmp = (j - i) * self.return_min(height[i], height[j])\n",
    "                if tmp > max:\n",
    "                    max = tmp\n",
    "        return max"
   ]
  },
  {
   "cell_type": "code",
   "execution_count": 11,
   "metadata": {},
   "outputs": [],
   "source": [
    "# Two Pointer Approach\n",
    "class Solution:\n",
    "    def return_min(self, x, y):\n",
    "        if x < y:\n",
    "            return x\n",
    "        else:\n",
    "            return y\n",
    "    \n",
    "    def maxArea(self, height: List[int]) -> int:\n",
    "        max = 0\n",
    "        leng = len(height)\n",
    "        i = 0\n",
    "        j = leng - 1\n",
    "        while (i != j):\n",
    "            area = (j - i) * self.return_min(height[i], height[j])\n",
    "            if area > max:\n",
    "                max = area\n",
    "            if (height[i] < height[j]):\n",
    "                i += 1\n",
    "            else:\n",
    "                j -= 1\n",
    "        return max"
   ]
  },
  {
   "cell_type": "markdown",
   "metadata": {},
   "source": [
    "## 15. 3Sum"
   ]
  },
  {
   "cell_type": "code",
   "execution_count": null,
   "metadata": {},
   "outputs": [],
   "source": [
    "# Using one hash map, O(n^2+k^2), where k is the number of triplets of solution\n",
    "# Time exceeded\n",
    "class Solution:\n",
    "    # check any duplicate of this newTri with the other solution triplets\n",
    "    def checknAdd(self, result, newTri):\n",
    "        for tri in result:\n",
    "            if (set(tri) == set(newTri)):\n",
    "                return\n",
    "        result.append(newTri)\n",
    "        return\n",
    "    \n",
    "    def threeSum(self, nums: List[int]) -> List[List[int]]:\n",
    "        leng = len(nums)\n",
    "        if (leng < 3):\n",
    "            return []\n",
    "        result = []  # output\n",
    "        \n",
    "        for i in range(0, leng - 2):\n",
    "            # create a hashmap/dict here when traversing j, instead of creating it before\n",
    "            # so no need to worry about entries of same value in nums[] (cause duplicate key if store to dict)\n",
    "            # since the values in dict is not the values of i or j most of the time, won't use one value two times in the 3-sum\n",
    "            hashmap = dict()\n",
    "            for j in range(i + 1, leng):\n",
    "                if (-nums[i] - nums[j]) in hashmap:\n",
    "                    record = [nums[i], nums[j], -nums[i]-nums[j]]\n",
    "                    #result.append(record)\n",
    "                    # because of two -1's, would cause two duplicate triplets\n",
    "                    self.checknAdd(result, record)  # check duplicate and append\n",
    "                else:\n",
    "                    hashmap[nums[j]] = j\n",
    "        return result"
   ]
  },
  {
   "cell_type": "code",
   "execution_count": null,
   "metadata": {},
   "outputs": [],
   "source": [
    "# list with different ordering of the same elements are not identical\n",
    "[1,2] == [2,1]  # return false\n",
    "set([1,2]) == set([2,1])  # return true"
   ]
  },
  {
   "cell_type": "code",
   "execution_count": 15,
   "metadata": {},
   "outputs": [
    {
     "data": {
      "text/plain": [
       "{1, 2, 3}"
      ]
     },
     "execution_count": 15,
     "metadata": {},
     "output_type": "execute_result"
    }
   ],
   "source": [
    "set([2,1,3])"
   ]
  },
  {
   "cell_type": "code",
   "execution_count": 16,
   "metadata": {},
   "outputs": [
    {
     "data": {
      "text/plain": [
       "(2, 1, 3)"
      ]
     },
     "execution_count": 16,
     "metadata": {},
     "output_type": "execute_result"
    }
   ],
   "source": [
    "tuple([2,1,3])"
   ]
  },
  {
   "cell_type": "code",
   "execution_count": 17,
   "metadata": {},
   "outputs": [
    {
     "data": {
      "text/plain": [
       "False"
      ]
     },
     "execution_count": 17,
     "metadata": {},
     "output_type": "execute_result"
    }
   ],
   "source": [
    "tuple([1,2]) == tuple([2,1])  # return false"
   ]
  },
  {
   "cell_type": "code",
   "execution_count": 19,
   "metadata": {},
   "outputs": [
    {
     "name": "stdout",
     "output_type": "stream",
     "text": [
      "{(1, 2), (2, 1)}\n"
     ]
    }
   ],
   "source": [
    "sol = set()\n",
    "sol.add(tuple([1,2]))\n",
    "sol.add(tuple([2,1]))\n",
    "print(sol)"
   ]
  },
  {
   "cell_type": "code",
   "execution_count": 30,
   "metadata": {},
   "outputs": [
    {
     "name": "stdout",
     "output_type": "stream",
     "text": [
      "[[1, 2], [2, 1]]\n"
     ]
    }
   ],
   "source": [
    "test = [[1,2],[2,1]]\n",
    "a = set(map(tuple, test))\n",
    "b = map(list, a)\n",
    "b = list(b)\n",
    "print(b)\n",
    "# no use"
   ]
  },
  {
   "cell_type": "code",
   "execution_count": 31,
   "metadata": {},
   "outputs": [
    {
     "name": "stdout",
     "output_type": "stream",
     "text": [
      "[[1, 2]]\n"
     ]
    }
   ],
   "source": [
    "test = [[1,2],[2,1]]\n",
    "for i in test:\n",
    "    i.sort()\n",
    "x = set(tuple(i) for i in test)\n",
    "y = [list(j) for j in x]\n",
    "print(y)\n",
    "# works"
   ]
  },
  {
   "cell_type": "code",
   "execution_count": 29,
   "metadata": {},
   "outputs": [
    {
     "data": {
      "text/plain": [
       "[[1, 2], [1, 2]]"
      ]
     },
     "execution_count": 29,
     "metadata": {},
     "output_type": "execute_result"
    }
   ],
   "source": [
    "# Second method: O(n^2 + k)\n",
    "# Time exceeded on test case [0,0,0,0,...,0] (3,000 0's)\n",
    "class Solution:\n",
    "    def threeSum(self, nums: List[int]) -> List[List[int]]:\n",
    "        leng = len(nums)\n",
    "        if (leng < 3):\n",
    "            return []\n",
    "        result = []  # output\n",
    "        \n",
    "        for i in range(0, leng - 2):\n",
    "            # create a hashmap/dict here when traversing j, instead of creating it before\n",
    "            # so no need to worry about entries of same value in nums[] (cause duplicate key if store to dict)\n",
    "            # since the values in dict is not the values of i or j most of the time, won't use one value two times in the 3-sum\n",
    "            hashmap = dict()\n",
    "            for j in range(i + 1, leng):\n",
    "                if (-nums[i] - nums[j]) in hashmap:\n",
    "                    record = [nums[i], nums[j], -nums[i]-nums[j]]\n",
    "                    result.append(record)\n",
    "                else:\n",
    "                    hashmap[nums[j]] = j\n",
    "        # check result for duplicates\n",
    "        for i in result:\n",
    "            i.sort()\n",
    "        tmpSet = set(tuple(x) for x in result)\n",
    "        result = [list(y) for y in tmpSet]\n",
    "        return result"
   ]
  },
  {
   "cell_type": "code",
   "execution_count": 36,
   "metadata": {},
   "outputs": [
    {
     "name": "stdout",
     "output_type": "stream",
     "text": [
      "{(1, 2)}\n",
      "{(1, 2)}\n"
     ]
    }
   ],
   "source": [
    "tmp = set()\n",
    "#tmp.add([1,2])  # error: unhashable type 'list'\n",
    "tmp.add(tuple([1,2]))\n",
    "print(tmp)\n",
    "tmp.add(tuple([1,2]))\n",
    "print(tmp)"
   ]
  },
  {
   "cell_type": "code",
   "execution_count": 37,
   "metadata": {},
   "outputs": [
    {
     "name": "stdout",
     "output_type": "stream",
     "text": [
      "[0, 1, 2, 3, 6]\n"
     ]
    }
   ],
   "source": [
    "test = [1,2,6,3,0]\n",
    "test.sort()\n",
    "print(test)  # ascending order"
   ]
  },
  {
   "cell_type": "code",
   "execution_count": null,
   "metadata": {},
   "outputs": [],
   "source": [
    "# Hashset that would sort and then pass duplicate entries after finding an valid triplet\n",
    "# work efficiently for repeated values\n",
    "# passed the 3,000 0's test case\n",
    "class Solution:\n",
    "    def threeSum(self, nums: List[int]) -> List[List[int]]:\n",
    "        leng = len(nums)\n",
    "        if (leng < 3):\n",
    "            return []\n",
    "        nums.sort()\n",
    "        result = []\n",
    "        \n",
    "        for i in range(0, leng - 2):\n",
    "            # since the values in dict is not the values of i or j most of the time, won't use one value two times in the 3-sum\n",
    "            if nums[i] > 0:\n",
    "                return result\n",
    "            elif i > 0 and nums[i] == nums[i - 1]:  # so the cond1 will pass before exec cond2? else nums[i-1] would throws an error\n",
    "                continue  # pass duplicate pivots\n",
    "            else:\n",
    "                hashmap = dict()\n",
    "                j = i + 1\n",
    "                while j < leng:\n",
    "                    if (-nums[i] - nums[j]) in hashmap:\n",
    "                        record = [nums[i], -nums[i]-nums[j], nums[j]]\n",
    "                        result.append(record)\n",
    "                        while j + 1 < leng and nums[j] == nums[j + 1]:\n",
    "                            j += 1  # ignore all duplicate entries if found a triplet\n",
    "                    else:\n",
    "                        hashmap[nums[j]] = j\n",
    "                    j += 1\n",
    "                \n",
    "        return result"
   ]
  },
  {
   "cell_type": "code",
   "execution_count": 38,
   "metadata": {},
   "outputs": [
    {
     "name": "stdout",
     "output_type": "stream",
     "text": [
      "{1: 2}\n",
      "{1: 3}\n"
     ]
    }
   ],
   "source": [
    "# testing dictionary with same key but different values\n",
    "test = dict()\n",
    "test[1] = 2\n",
    "print(test)\n",
    "test[1] = 3\n",
    "print(test)"
   ]
  },
  {
   "cell_type": "markdown",
   "metadata": {},
   "source": [
    "### Difference of sort() and sorted()\n",
    "The primary difference between the list sort() function and the sorted() function is that the sort() function will modify the list it is called on. The sorted() function will create a new list containing a sorted version of the list it is given. The sorted() function will not modify the list passed as a parameter. If you want to sort a list but still have the original unsorted version, then you would use the sorted() function. If maintaining the original order of the list is unimportant, then you can call the sort() function on the list.\n",
    "\n",
    "A second important difference is that the sorted() function will return a list so you must assign the returned data to a new variable. The sort() function modifies the list in-place and has no return value."
   ]
  },
  {
   "cell_type": "markdown",
   "metadata": {},
   "source": [
    "## 16. 3Sum Closest"
   ]
  },
  {
   "cell_type": "code",
   "execution_count": 39,
   "metadata": {},
   "outputs": [
    {
     "name": "stdout",
     "output_type": "stream",
     "text": [
      "1\n",
      "1\n"
     ]
    }
   ],
   "source": [
    "print(abs(-1))\n",
    "print(abs(1))"
   ]
  },
  {
   "cell_type": "code",
   "execution_count": 47,
   "metadata": {},
   "outputs": [],
   "source": [
    "nums = [1,2,4,8,16,32,64,128]\n",
    "target = 82"
   ]
  },
  {
   "cell_type": "code",
   "execution_count": 52,
   "metadata": {},
   "outputs": [
    {
     "name": "stdout",
     "output_type": "stream",
     "text": [
      "while loop with i: 0\n",
      "while loop with p: 1 and q: 7\n",
      "tmp is : 131\n",
      "recorded sum is : 131\n",
      "while loop with p: 2 and q: 7\n",
      "tmp is : 133\n",
      "while loop with p: 3 and q: 7\n",
      "tmp is : 137\n",
      "while loop with p: 4 and q: 7\n",
      "tmp is : 145\n",
      "while loop with p: 5 and q: 7\n",
      "tmp is : 161\n",
      "while loop with p: 6 and q: 7\n",
      "tmp is : 193\n",
      "while loop with i: 1\n",
      "while loop with p: 2 and q: 7\n",
      "tmp is : 134\n",
      "while loop with p: 3 and q: 7\n",
      "tmp is : 138\n",
      "while loop with p: 4 and q: 7\n",
      "tmp is : 146\n",
      "while loop with p: 5 and q: 7\n",
      "tmp is : 162\n",
      "while loop with p: 6 and q: 7\n",
      "tmp is : 194\n",
      "while loop with i: 2\n",
      "while loop with p: 3 and q: 7\n",
      "tmp is : 140\n",
      "while loop with p: 4 and q: 7\n",
      "tmp is : 148\n",
      "while loop with p: 5 and q: 7\n",
      "tmp is : 164\n",
      "while loop with p: 5 and q: 6\n",
      "tmp is : 100\n",
      "recorded sum is : 100\n",
      "while loop with i: 3\n",
      "while loop with p: 4 and q: 7\n",
      "tmp is : 152\n",
      "while loop with p: 5 and q: 7\n",
      "tmp is : 168\n",
      "while loop with p: 5 and q: 6\n",
      "tmp is : 104\n",
      "while loop with i: 4\n",
      "while loop with p: 5 and q: 7\n",
      "tmp is : 176\n",
      "while loop with p: 5 and q: 6\n",
      "tmp is : 112\n",
      "while loop with i: 5\n",
      "while loop with p: 6 and q: 7\n",
      "tmp is : 224\n",
      "100\n"
     ]
    }
   ],
   "source": [
    "nums.sort()\n",
    "leng = len(nums)\n",
    "record = nums[1] + nums[2] + nums[3]  # store the best sum so far\n",
    "gap = abs(record - target)  # store the min abs gap\n",
    "i = 0\n",
    "while i < leng - 2:\n",
    "    print(\"while loop with i:\", i)\n",
    "    if (3*nums[i] - target) > gap:\n",
    "        break  # the rest triplets will be too large\n",
    "    else:\n",
    "        p = i + 1\n",
    "        q = leng - 1\n",
    "        while p < q:\n",
    "            print(\"while loop with p: \"+str(p)+\" and q:\", q)\n",
    "            tmp = nums[i] + nums[p] + nums[q]\n",
    "            tmpGap = tmp - target\n",
    "            print(\"tmp is :\", tmp)\n",
    "            if tmpGap == 0:\n",
    "                print(tmp)\n",
    "            elif abs(tmpGap) < gap:\n",
    "                record = tmp\n",
    "                gap = abs(tmpGap)\n",
    "                print(\"recorded sum is :\", record)\n",
    "            # update pointer for next iteration\n",
    "            if tmpGap < target:  # should use tmp instead of tmpGap!\n",
    "                while p < q and nums[p] == nums[p + 1]:  # pass duplicates\n",
    "                    p += 1\n",
    "                p += 1\n",
    "            else:  # tmpGap > target\n",
    "                while q > p and nums[q] == nums[q - 1]:\n",
    "                    q -= 1\n",
    "                q -= 1\n",
    "    i += 1\n",
    "print(record)"
   ]
  },
  {
   "cell_type": "code",
   "execution_count": 53,
   "metadata": {},
   "outputs": [],
   "source": [
    "# Two Pointers approach\n",
    "# Easy bug points: remember to update i after loop body is finished\n",
    "class Solution:\n",
    "    def threeSumClosest(self, nums: List[int], target: int) -> int:\n",
    "        nums.sort()\n",
    "        leng = len(nums)\n",
    "        record = nums[0] + nums[1] + nums[2]  # store the best sum so far\n",
    "        gap = abs(record - target)  # store the min abs gap\n",
    "        i = 0\n",
    "        while i < leng - 2:\n",
    "            if (3*nums[i] - target) > gap:\n",
    "                break  # the rest triplets will be too large\n",
    "            else:\n",
    "                p = i + 1\n",
    "                q = leng - 1\n",
    "                while p < q:\n",
    "                    tmp = nums[i] + nums[p] + nums[q]\n",
    "                    tmpGap = tmp - target\n",
    "                    if tmpGap == 0:\n",
    "                        return tmp\n",
    "                    elif abs(tmpGap) < gap:\n",
    "                        record = tmp\n",
    "                        gap = abs(tmpGap)\n",
    "                    # update pointer for next iteration\n",
    "                    if tmp < target:\n",
    "                        while p < q and nums[p] == nums[p + 1]:  # pass duplicates\n",
    "                            p += 1\n",
    "                        p += 1\n",
    "                    else:  # tmp > target\n",
    "                        while q > p and nums[q] == nums[q - 1]:\n",
    "                            q -= 1\n",
    "                        q -= 1\n",
    "            i += 1\n",
    "        return record"
   ]
  },
  {
   "cell_type": "markdown",
   "metadata": {},
   "source": [
    "## 4. Median of Two Sorted Arrays"
   ]
  },
  {
   "cell_type": "code",
   "execution_count": 54,
   "metadata": {},
   "outputs": [
    {
     "data": {
      "text/plain": [
       "[1, 2, 3, 1, 5]"
      ]
     },
     "execution_count": 54,
     "metadata": {},
     "output_type": "execute_result"
    }
   ],
   "source": [
    "[1,2,3] + [1,5]"
   ]
  },
  {
   "cell_type": "code",
   "execution_count": 56,
   "metadata": {},
   "outputs": [
    {
     "data": {
      "text/plain": [
       "1.5"
      ]
     },
     "execution_count": 56,
     "metadata": {},
     "output_type": "execute_result"
    }
   ],
   "source": [
    "3/2  # default is to get a float"
   ]
  },
  {
   "cell_type": "code",
   "execution_count": 57,
   "metadata": {},
   "outputs": [
    {
     "name": "stdout",
     "output_type": "stream",
     "text": [
      "1\n",
      "1\n"
     ]
    }
   ],
   "source": [
    "print(3 // 2)\n",
    "print(int(3/2))"
   ]
  },
  {
   "cell_type": "code",
   "execution_count": 58,
   "metadata": {},
   "outputs": [],
   "source": [
    "# O(log(m+n))\n",
    "# kind of cheating using the python builtin function sort()\n",
    "# should write sorting functions of my own!!!\n",
    "class Solution:\n",
    "    def findMedianSortedArrays(self, nums1: List[int], nums2: List[int]) -> float:\n",
    "        len1 = len(nums1)\n",
    "        len2 = len(nums2)\n",
    "        leng = len1 + len2\n",
    "        nums = nums1 + nums2\n",
    "        nums.sort()\n",
    "        if leng % 2 == 0:\n",
    "            # even\n",
    "            return (nums[leng // 2 - 1] + nums[leng // 2]) / 2\n",
    "        else:\n",
    "            # odd\n",
    "            return nums[leng // 2]"
   ]
  },
  {
   "cell_type": "markdown",
   "metadata": {},
   "source": [
    "## Set Matrix Zeroes"
   ]
  },
  {
   "cell_type": "code",
   "execution_count": null,
   "metadata": {},
   "outputs": [],
   "source": []
  },
  {
   "cell_type": "markdown",
   "metadata": {},
   "source": [
    "## Group Anagrams"
   ]
  },
  {
   "cell_type": "code",
   "execution_count": 63,
   "metadata": {},
   "outputs": [
    {
     "name": "stdout",
     "output_type": "stream",
     "text": [
      "['eat']\n",
      "['e', 'a', 't']\n"
     ]
    }
   ],
   "source": [
    "test = \"eat\"\n",
    "lst = test.split()\n",
    "print(lst)\n",
    "lst = list(test)\n",
    "print(lst)"
   ]
  },
  {
   "cell_type": "code",
   "execution_count": 64,
   "metadata": {},
   "outputs": [
    {
     "name": "stdout",
     "output_type": "stream",
     "text": [
      "{'e', 't', 'a'}\n"
     ]
    }
   ],
   "source": [
    "lst = ['e', 'a', 't', 't']\n",
    "tmp = set(lst)\n",
    "print(tmp)  # duplicate 't' is deleted"
   ]
  },
  {
   "cell_type": "code",
   "execution_count": 65,
   "metadata": {},
   "outputs": [
    {
     "name": "stdout",
     "output_type": "stream",
     "text": [
      "True\n",
      "False\n"
     ]
    }
   ],
   "source": [
    "# test if two lists can be compared\n",
    "print(['a', 'b'] == ['a', 'b'])\n",
    "print(['a', 'b'] == ['b', 'a'])"
   ]
  },
  {
   "cell_type": "code",
   "execution_count": 66,
   "metadata": {},
   "outputs": [
    {
     "name": "stdout",
     "output_type": "stream",
     "text": [
      "[[1, 4], [2], [3]]\n"
     ]
    }
   ],
   "source": [
    "# modifying on the iteratives/item(?) of a list will be stored\n",
    "lsts = [[1], [2], [3]]\n",
    "for lst in lsts:\n",
    "    if lst[0] == 1:\n",
    "        lst.append(4)\n",
    "print(lsts)"
   ]
  },
  {
   "cell_type": "code",
   "execution_count": 67,
   "metadata": {},
   "outputs": [],
   "source": [
    "# O(NM+NKlogK), where N is the number of words in list, M is the maximum of categories, and K is the max length of word\n",
    "# time exceeded for the last test case (a very big array of words)\n",
    "# should use a hash map for the search part\n",
    "class Solution:\n",
    "    def groupAnagrams(self, strs: List[str]) -> List[List[str]]:\n",
    "        leng = len(strs)\n",
    "        if leng == 0:\n",
    "            return []\n",
    "        lsts = []\n",
    "        for term in strs:\n",
    "            if len(lsts) == 0:\n",
    "                lsts.append([term])\n",
    "            else:\n",
    "                flag = 0  # whether term is stored to a bucket\n",
    "                for lst in lsts:\n",
    "                    tmp = list(term)\n",
    "                    tmp.sort()\n",
    "                    tmp2 = list(lst[0])\n",
    "                    tmp2.sort()\n",
    "                    if tmp == tmp2:\n",
    "                        lst.append(term)\n",
    "                        flag = 1\n",
    "                        break\n",
    "                if flag == 0:  # not belong to any bucket\n",
    "                    lsts.append([term])\n",
    "        return lsts"
   ]
  },
  {
   "cell_type": "markdown",
   "metadata": {},
   "source": [
    "### What does it mean by hashable?\n",
    "A tuple is hashable...And?"
   ]
  },
  {
   "cell_type": "code",
   "execution_count": 68,
   "metadata": {},
   "outputs": [
    {
     "ename": "TypeError",
     "evalue": "unhashable type: 'list'",
     "output_type": "error",
     "traceback": [
      "\u001b[0;31m---------------------------------------------------------------------------\u001b[0m",
      "\u001b[0;31mTypeError\u001b[0m                                 Traceback (most recent call last)",
      "\u001b[0;32m<ipython-input-68-bf127d183573>\u001b[0m in \u001b[0;36m<module>\u001b[0;34m\u001b[0m\n\u001b[1;32m      1\u001b[0m \u001b[0mtest\u001b[0m \u001b[0;34m=\u001b[0m \u001b[0mdict\u001b[0m\u001b[0;34m(\u001b[0m\u001b[0;34m)\u001b[0m\u001b[0;34m\u001b[0m\u001b[0;34m\u001b[0m\u001b[0m\n\u001b[0;32m----> 2\u001b[0;31m \u001b[0mtest\u001b[0m\u001b[0;34m[\u001b[0m\u001b[0;34m[\u001b[0m\u001b[0;36m1\u001b[0m\u001b[0;34m,\u001b[0m\u001b[0;36m2\u001b[0m\u001b[0;34m]\u001b[0m\u001b[0;34m]\u001b[0m \u001b[0;34m=\u001b[0m \u001b[0;36m3\u001b[0m\u001b[0;34m\u001b[0m\u001b[0;34m\u001b[0m\u001b[0m\n\u001b[0m\u001b[1;32m      3\u001b[0m \u001b[0mprint\u001b[0m\u001b[0;34m(\u001b[0m\u001b[0mtest\u001b[0m\u001b[0;34m)\u001b[0m\u001b[0;34m\u001b[0m\u001b[0;34m\u001b[0m\u001b[0m\n",
      "\u001b[0;31mTypeError\u001b[0m: unhashable type: 'list'"
     ]
    }
   ],
   "source": [
    "test = dict()\n",
    "test[[1,2]] = 3  # TypeError: unhashable type: 'list'\n",
    "print(test)"
   ]
  },
  {
   "cell_type": "code",
   "execution_count": 73,
   "metadata": {},
   "outputs": [
    {
     "name": "stdout",
     "output_type": "stream",
     "text": [
      "('a', 'b', 'c')\n",
      "('b', 'c', 'a')\n",
      "['a', 'b', 'c']\n",
      "('a', 'b', 'c')\n"
     ]
    }
   ],
   "source": [
    "test = 'abc'\n",
    "tup = tuple(test)\n",
    "print(tup)\n",
    "test = 'bca'\n",
    "tup = tuple(test)\n",
    "print(tup)\n",
    "tup = sorted(tup)  # tuple can be passed to sorted() but not sort(). It returns a list\n",
    "print(tup)\n",
    "tup = tuple(tup)\n",
    "print(tup)"
   ]
  },
  {
   "cell_type": "code",
   "execution_count": 74,
   "metadata": {},
   "outputs": [
    {
     "name": "stdout",
     "output_type": "stream",
     "text": [
      "['a', 'b', 'c']\n"
     ]
    }
   ],
   "source": [
    "test = 'bca'\n",
    "x = sorted(test)  # pass sorted() with a string, returns a sorted list of chars\n",
    "print(x)"
   ]
  },
  {
   "cell_type": "code",
   "execution_count": 75,
   "metadata": {},
   "outputs": [],
   "source": [
    "# Using a hash set to search: O(NKlogK)\n",
    "# using tuple as the key to the dictionary\n",
    "class Solution:\n",
    "    def groupAnagrams(self, strs: List[str]) -> List[List[str]]:\n",
    "        # assume strs does not have duplicate strings\n",
    "        leng = len(strs)\n",
    "        if leng == 0:\n",
    "            return []\n",
    "        lsts = []  # output\n",
    "        dictionary = dict()\n",
    "        for term in strs:\n",
    "            tup = tuple(sorted(term))  # string -> a sorted list of chars -> tuple\n",
    "            if tup in dictionary:\n",
    "                dictionary[tup].append(term)\n",
    "            else:\n",
    "                dictionary[tup] = [term]\n",
    "        # turn dict to a list of lists\n",
    "        for _, value in dictionary.items():\n",
    "            lsts.append(value)\n",
    "        return lsts\n",
    "\n",
    "# Using char counting or count sort will further optimize the problem!!!"
   ]
  },
  {
   "cell_type": "markdown",
   "metadata": {},
   "source": [
    "## 3. Longest Substring Without Repeating Characters"
   ]
  },
  {
   "cell_type": "code",
   "execution_count": 76,
   "metadata": {},
   "outputs": [],
   "source": [
    "# Brute Force\n",
    "# Note that this takes O(n^3) time\n",
    "class Solution:\n",
    "    def lengthOfLongestSubstring(self, s: str) -> int:\n",
    "        if s==\" \":\n",
    "            return 1\n",
    "        \n",
    "        max = 0\n",
    "        n = len(s)\n",
    "        for i in range(n):\n",
    "            j=i  # a copy of i, i is not changed inside iteration\n",
    "            temp = [s[j]]\n",
    "            j = j+1\n",
    "            while j<n and s[j] not in temp:\n",
    "                temp.append(s[j])\n",
    "                j = j+1\n",
    "            length = len(temp)\n",
    "            if length > max:\n",
    "                max = length\n",
    "            if (n-i-1) <= max:  # the rest length is less than max\n",
    "                break\n",
    "        return max"
   ]
  },
  {
   "cell_type": "markdown",
   "metadata": {},
   "source": [
    "### What is the time complexity of ```if x in lst```?"
   ]
  },
  {
   "cell_type": "code",
   "execution_count": null,
   "metadata": {},
   "outputs": [],
   "source": [
    "# Sliding Window: O(n)\n",
    "class Solution:\n",
    "    def lengthOfLongestSubstring(self, s: str) -> int:\n",
    "        if s==\" \":  # special case\n",
    "            return 1\n",
    "        \n",
    "        maxlen = 0\n",
    "        n = len(s)\n",
    "        i = 0\n",
    "        while i < n:\n",
    "            if (n - i) <= maxlen:  # the rest length is no larger than max\n",
    "                break\n",
    "            hashset = dict()\n",
    "            hashset[s[i]] = i  # the value is to help i get to the next point if same char is met\n",
    "            j = i + 1\n",
    "            while j < n and s[j] not in hashset:\n",
    "                hashset[s[j]] = j\n",
    "                j += 1\n",
    "            # now either meet same char or j==n\n",
    "            tmplen = j - i\n",
    "            if tmplen > maxlen:\n",
    "                maxlen = tmplen\n",
    "            # update i\n",
    "            if j == n:\n",
    "                i += 1\n",
    "            else:  # same char meet and j < n\n",
    "                i = hashset[s[j]] + 1  # update to the next of the same char\n",
    "        \n",
    "        return maxlen"
   ]
  },
  {
   "cell_type": "markdown",
   "metadata": {},
   "source": [
    "### What is enumerate() in python?"
   ]
  },
  {
   "cell_type": "markdown",
   "metadata": {},
   "source": [
    "## 5. Longest Palindromic Substring"
   ]
  },
  {
   "cell_type": "code",
   "execution_count": 78,
   "metadata": {},
   "outputs": [],
   "source": [
    "# Dynamic Programming: time O(n^2) and space O(n^2)\n",
    "class Solution:\n",
    "    def longestPalindrome(self, s: str) -> str:\n",
    "        n = len(s)\n",
    "        # bug report: ignore the case when n = 0:\n",
    "        if n == 0:\n",
    "            return \"\"\n",
    "        \n",
    "        # bug report: str is a class/type in python, s is the variable name here.\n",
    "        if n==1:\n",
    "            return s\n",
    "        # n>=2:    \n",
    "        #table = [ [0]*x for x in range(1,n+1)[::-1] ]  # a half n by n table\n",
    "        # the above table is hard to access with its index\n",
    "        table = [ [0]*n for _ in range(n) ]  # a n by n table, we only use the upper right corner part; if s[i:j+1] is palindromic, stores its length; else stores 0;\n",
    "        \n",
    "        # assign substrings with length=1 to 1:\n",
    "        for i in range(n):\n",
    "            table[i][i] = 1\n",
    "        # assign substrings with length=2 to 2:\n",
    "        # bug report: forget to test whether the two char are the same! should not just assign 2...\n",
    "        for i in range(n-1):\n",
    "            #table[i][i+1] = 2\n",
    "            #print(i,i+1,s[i],s[i+1])\n",
    "            if s[i]==s[i+1]:\n",
    "                #print('goes here')\n",
    "                table[i][i+1] = 2  # bug report: should be = 2, not == 2 !!!\n",
    "            else:\n",
    "                table[i][i+1] = 0\n",
    "            \n",
    "        \n",
    "        # the rest of the table:\n",
    "        for i in range(n-2):\n",
    "            for j in range(n-2-i):\n",
    "                #print(j,j+i+2)\n",
    "                if table[j+1][j+i+2-1]==(j+i+2-1)-(j+1)+1:  # if inside is palindromic!\n",
    "                    table[j][j+i+2] = table[j+1][j+i+2-1] + 2*(s[j]==s[j+i+2])  # if the 2 ends equal, plus 2, else plus 0\n",
    "                else:\n",
    "                    table[j][j+i+2] = 0\n",
    "        #print(table)\n",
    "        # find the largest number/the first number that is equal to its length, and give the substring:\n",
    "        for i in range(n):\n",
    "            for j in range(1+i):\n",
    "                if table[j][n-1-i+j] == (n-1-i+j)-j + 1:  # bug report: forget to plus 1 for the length of the substring on the RHS\n",
    "                    return s[j:n-1-i+j+1]\n",
    "                "
   ]
  },
  {
   "cell_type": "code",
   "execution_count": 79,
   "metadata": {},
   "outputs": [],
   "source": [
    "# Expand around center\n",
    "# Time O(n^2), space O(1)\n",
    "class Solution:\n",
    "    def expandAround(self, s, x, y):  # return the max length palindrome centered at (x+y)/2\n",
    "        i = x\n",
    "        j = y\n",
    "        while i >= 0 and j < len(s) and s[i] == s[j]:\n",
    "            i -= 1\n",
    "            j += 1\n",
    "        return j - i - 1\n",
    "    \n",
    "    def longestPalindrome(self, s: str) -> str:\n",
    "        n = len(s)\n",
    "        if n == 0:\n",
    "            return \"\"\n",
    "        # n>=1:    \n",
    "        maxlen = 0\n",
    "        maxstart = 0\n",
    "        for i in range(n):\n",
    "            len1 = self.expandAround(s, i, i)\n",
    "            len2 = self.expandAround(s, i, i + 1)\n",
    "            tmplen = len2  # max of len1 and len2\n",
    "            if len1 > len2:\n",
    "                tmplen = len1\n",
    "            if tmplen > maxlen:\n",
    "                maxlen = tmplen\n",
    "                maxstart = i - (tmplen - 1) // 2\n",
    "        return s[maxstart : (maxstart + maxlen)]"
   ]
  },
  {
   "cell_type": "markdown",
   "metadata": {},
   "source": [
    "## 334. Increasing Triplet Subsequence\n",
    "This problem is very tricky!"
   ]
  },
  {
   "cell_type": "code",
   "execution_count": 82,
   "metadata": {},
   "outputs": [
    {
     "name": "stdout",
     "output_type": "stream",
     "text": [
      "None\n"
     ]
    }
   ],
   "source": [
    "val = None\n",
    "if val is None:\n",
    "    print(\"None\")"
   ]
  },
  {
   "cell_type": "code",
   "execution_count": 87,
   "metadata": {},
   "outputs": [
    {
     "name": "stdout",
     "output_type": "stream",
     "text": [
      "True\n",
      "True\n"
     ]
    }
   ],
   "source": [
    "# infinite number\n",
    "# must use float(), cannot use int()\n",
    "inf = float('inf')\n",
    "print(inf > 100000)\n",
    "minf = float('-inf')\n",
    "print(minf < -10000 )"
   ]
  },
  {
   "cell_type": "code",
   "execution_count": 88,
   "metadata": {},
   "outputs": [],
   "source": [
    "# Linear Scan: time O(n), space O(1)\n",
    "class Solution:\n",
    "    def increasingTriplet(self, nums: List[int]) -> bool:\n",
    "        if nums is None:\n",
    "            return False\n",
    "        leng = len(nums)\n",
    "        if leng < 3:\n",
    "            return False\n",
    "        min1 = float('inf')\n",
    "        min2 = float('inf')\n",
    "        for i in range(leng):\n",
    "            if nums[i] <= min1:\n",
    "                min1 = nums[i]\n",
    "            elif nums[i] < min2:\n",
    "                min2 = nums[i]\n",
    "            elif nums[i] > min2:\n",
    "                return True\n",
    "        return False"
   ]
  },
  {
   "cell_type": "markdown",
   "metadata": {},
   "source": [
    "## 163. Missing Ranges"
   ]
  },
  {
   "cell_type": "code",
   "execution_count": 91,
   "metadata": {},
   "outputs": [],
   "source": [
    "# traverse through nums: time o(n), space O(k), where k is the number of entries of output\n",
    "class Solution:\n",
    "    def findMissingRanges(self, nums: List[int], lower: int, upper: int) -> List[str]:\n",
    "        # from bug, know that nums can have duplicate int, and lower could equal upper\n",
    "        leng = len(nums)\n",
    "        if leng == 0:\n",
    "            if lower == upper:\n",
    "                return [str(lower)]\n",
    "            else:\n",
    "                return [str(lower) + \"->\" + str(upper)]\n",
    "        output = []\n",
    "        low = lower  # point to the current lowest number in range\n",
    "        for i in range(leng):\n",
    "            if low > upper:\n",
    "                return output\n",
    "            elif i > 0 and nums[i] == nums[i - 1]:  # duplicate\n",
    "                continue\n",
    "            elif nums[i] == low:\n",
    "                low += 1\n",
    "            elif nums[i]  == (low + 1):\n",
    "                output.append(str(low))\n",
    "                low = nums[i] + 1\n",
    "            else:\n",
    "                tmp = str(low) + \"->\" + str(nums[i] - 1)\n",
    "                output.append(tmp)\n",
    "                low = nums[i] + 1\n",
    "        # last num in nums\n",
    "        if nums[i] == upper:\n",
    "            pass\n",
    "        elif nums[i] == (upper - 1):\n",
    "            output.append(str(upper))\n",
    "        else:\n",
    "            tmp = str(low) + \"->\" + str(upper)\n",
    "            output.append(tmp)\n",
    "        return output"
   ]
  },
  {
   "cell_type": "code",
   "execution_count": null,
   "metadata": {},
   "outputs": [],
   "source": []
  }
 ],
 "metadata": {
  "kernelspec": {
   "display_name": "Python 3",
   "language": "python",
   "name": "python3"
  },
  "language_info": {
   "codemirror_mode": {
    "name": "ipython",
    "version": 3
   },
   "file_extension": ".py",
   "mimetype": "text/x-python",
   "name": "python",
   "nbconvert_exporter": "python",
   "pygments_lexer": "ipython3",
   "version": "3.7.4"
  }
 },
 "nbformat": 4,
 "nbformat_minor": 2
}
