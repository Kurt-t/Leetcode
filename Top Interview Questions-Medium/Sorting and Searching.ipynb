{
 "cells": [
  {
   "cell_type": "code",
   "execution_count": 3,
   "metadata": {},
   "outputs": [],
   "source": [
    "from typing import List"
   ]
  },
  {
   "cell_type": "markdown",
   "metadata": {},
   "source": [
    "## 75. Sort Colors"
   ]
  },
  {
   "cell_type": "code",
   "execution_count": 3,
   "metadata": {},
   "outputs": [],
   "source": [
    "# first count, then write (2 passes)\n",
    "# O(n) for time; O(1) since it's in-place.\n",
    "class Solution:\n",
    "    def sortColors(self, nums: List[int]) -> None:\n",
    "        \"\"\"\n",
    "        Do not return anything, modify nums in-place instead.\n",
    "        \"\"\"\n",
    "        if not nums:\n",
    "            return\n",
    "        n = len(nums)\n",
    "        red = 0\n",
    "        white = 0\n",
    "        blue = 0\n",
    "        for i in range(n):\n",
    "            if nums[i] == 0:\n",
    "                red += 1\n",
    "            elif nums[i]  == 1:\n",
    "                white += 1\n",
    "            else:\n",
    "                blue += 1\n",
    "        i = 0\n",
    "        while red > 0:\n",
    "            nums[i] = 0\n",
    "            red -= 1\n",
    "            i += 1\n",
    "        while white > 0:\n",
    "            nums[i] = 1\n",
    "            white -= 1\n",
    "            i += 1\n",
    "        while blue > 0:\n",
    "            nums[i] = 2\n",
    "            blue -= 1\n",
    "            i += 1"
   ]
  },
  {
   "cell_type": "code",
   "execution_count": 4,
   "metadata": {},
   "outputs": [],
   "source": [
    "# How to do it in one pass\n",
    "# use pointers\n",
    "\n",
    "# tricky part: my previous solution failed because I update the curr pointer in a for loop, so it +1 every iteration.\n",
    "# In fact should use a while loop here and choose whether to update the curr pointer according to conditions.\n",
    "# The difference is not to move curr pointer to the right after switching with one of the right numbers.\n",
    "# So the case [1,2,0] would not be [1,0,2] eventually.\n",
    "\n",
    "class Solution:\n",
    "    def sortColors(self, nums: List[int]) -> None:\n",
    "        \"\"\"\n",
    "        Do not return anything, modify nums in-place instead.\n",
    "        \"\"\"\n",
    "        if not nums:\n",
    "            return\n",
    "        n = len(nums)\n",
    "        red = 0\n",
    "        blue = n - 1\n",
    "        curr = 0\n",
    "        while curr <= blue:\n",
    "            if nums[curr] == 0:\n",
    "                nums[red], nums[curr] = nums[curr], nums[red]\n",
    "                red += 1\n",
    "                curr += 1\n",
    "            elif nums[curr] == 1:\n",
    "                curr += 1\n",
    "            else:\n",
    "                nums[blue], nums[curr] = nums[curr], nums[blue]\n",
    "                blue -= 1\n",
    "                # do not update curr here because new nums[curr] could be 0, and has\n",
    "                # to be switched to the left again"
   ]
  },
  {
   "cell_type": "markdown",
   "metadata": {},
   "source": [
    "### Write a sorting function"
   ]
  },
  {
   "cell_type": "code",
   "execution_count": null,
   "metadata": {},
   "outputs": [],
   "source": []
  },
  {
   "cell_type": "markdown",
   "metadata": {},
   "source": [
    "## 347. Top K Frequent Elements"
   ]
  },
  {
   "cell_type": "code",
   "execution_count": 9,
   "metadata": {},
   "outputs": [
    {
     "name": "stdout",
     "output_type": "stream",
     "text": [
      "[3, 2, 1]\n"
     ]
    }
   ],
   "source": [
    "nums = [1,2,3]\n",
    "nums.sort(reverse=True)\n",
    "print(nums)"
   ]
  },
  {
   "cell_type": "code",
   "execution_count": 10,
   "metadata": {},
   "outputs": [],
   "source": [
    "# my solution:\n",
    "# time: O(n + k + klogk + n) -> O(nlogn)\n",
    "# space: O(n)\n",
    "class Solution:\n",
    "    def topKFrequent(self, nums: List[int], k: int) -> List[int]:\n",
    "        output = []\n",
    "        # build a hash map of nums -> count\n",
    "        hashmap = dict()\n",
    "        for num in nums:\n",
    "            if num in hashmap:\n",
    "                hashmap[num] += 1\n",
    "            else:\n",
    "                hashmap[num] = 1\n",
    "        \n",
    "        # get a hash map of count -> nums (a list of nums)\n",
    "        # note that some nums may have same counts (case [1,2], 2)\n",
    "        reverse = dict()\n",
    "        for key, value in hashmap.items():\n",
    "            if value not in reverse:\n",
    "                reverse[value] = [key]\n",
    "            else:\n",
    "                reverse[value].append(key)\n",
    "        cnts = list(reverse.keys())  # list of distinct cnts\n",
    "        cnts.sort(reverse=True)\n",
    "        i = 0\n",
    "        while len(output) < k:\n",
    "            output += reverse[cnts[i]]\n",
    "            i += 1\n",
    "        return output"
   ]
  },
  {
   "cell_type": "markdown",
   "metadata": {},
   "source": [
    "### How to use heap in python:\n",
    "https://hg.python.org/cpython/file/2.7/Lib/heapq.py#l16  \n",
    "Time to add an element to a heap of size k is O(logk). Do it n times will result in O(nlogk)."
   ]
  },
  {
   "cell_type": "markdown",
   "metadata": {},
   "source": [
    "### Counter in Python:"
   ]
  },
  {
   "cell_type": "code",
   "execution_count": 17,
   "metadata": {},
   "outputs": [
    {
     "name": "stdout",
     "output_type": "stream",
     "text": [
      "Counter({1: 3, 3: 2, 2: 1})\n",
      "<built-in method get of Counter object at 0x7fb98f79bc50>\n",
      "[1, 3]\n"
     ]
    }
   ],
   "source": [
    "# Heap solution:\n",
    "# better than O(nlogn): O(nlogk) or O(n) of time\n",
    "from collections import Counter\n",
    "import heapq\n",
    "nums = [1,1,1,2,3,3]\n",
    "k = 2\n",
    "\n",
    "if k == len(nums):\n",
    "    print(nums)\n",
    "count = Counter(nums)\n",
    "print(count)\n",
    "print(count.get)\n",
    "print(heapq.nlargest(k, count.keys(), key=count.get))"
   ]
  },
  {
   "cell_type": "code",
   "execution_count": 18,
   "metadata": {},
   "outputs": [
    {
     "name": "stdout",
     "output_type": "stream",
     "text": [
      "[[], [2], [3], [1], [], [], []]\n",
      "[1, 3]\n"
     ]
    }
   ],
   "source": [
    "# bucket sort (in the comment)\n",
    "# only O(n) time\n",
    "nums = [1,1,1,2,3,3]\n",
    "k = 2\n",
    "bucket = [[] for _ in range(len(nums) + 1)]\n",
    "Count = Counter(nums).items()  \n",
    "for num, freq in Count: bucket[freq].append(num)\n",
    "print(bucket)\n",
    "flat_list = [item for sublist in bucket for item in sublist]\n",
    "print(flat_list[::-1][:k])"
   ]
  },
  {
   "cell_type": "code",
   "execution_count": 20,
   "metadata": {},
   "outputs": [
    {
     "name": "stdout",
     "output_type": "stream",
     "text": [
      "[2, 3, 1]\n"
     ]
    }
   ],
   "source": [
    "# list comprehension\n",
    "bucket = [[], [2], [3], [1]]\n",
    "flat = [item for sublist in bucket for item in sublist]\n",
    "print(flat)"
   ]
  },
  {
   "cell_type": "markdown",
   "metadata": {},
   "source": [
    "## 215. Kth Largest Element in an Array"
   ]
  },
  {
   "cell_type": "code",
   "execution_count": 21,
   "metadata": {},
   "outputs": [],
   "source": [
    "# sort\n",
    "# time O(nlogn) and space O(1)\n",
    "class Solution:\n",
    "    def findKthLargest(self, nums: List[int], k: int) -> int:\n",
    "        if not nums:\n",
    "            return -1\n",
    "        nums.sort(reverse=True)\n",
    "        return nums[k-1]"
   ]
  },
  {
   "cell_type": "code",
   "execution_count": 23,
   "metadata": {},
   "outputs": [
    {
     "name": "stdout",
     "output_type": "stream",
     "text": [
      "[6, 5]\n",
      "5\n"
     ]
    }
   ],
   "source": [
    "# heap\n",
    "# time O(nlogk) and space O(k)\n",
    "nums = [3,2,1,5,6,4]\n",
    "k = 2\n",
    "curr = heapq.nlargest(k, nums)  # the function returns in descending order\n",
    "print(curr)\n",
    "print(curr[-1])"
   ]
  },
  {
   "cell_type": "code",
   "execution_count": 1,
   "metadata": {},
   "outputs": [],
   "source": [
    "# quickselect:\n",
    "# would have average time of O(n), worst case O(n^2)\n",
    "# leetcode solution:\n",
    "class Solution:\n",
    "    def findKthLargest(self, nums, k):\n",
    "        \"\"\"\n",
    "        :type nums: List[int]\n",
    "        :type k: int\n",
    "        :rtype: int\n",
    "        \"\"\"\n",
    "        def partition(left, right, pivot_index):\n",
    "            pivot = nums[pivot_index]\n",
    "            # 1. move pivot to end\n",
    "            nums[pivot_index], nums[right] = nums[right], nums[pivot_index]  \n",
    "            \n",
    "            # 2. move all smaller elements to the left\n",
    "            store_index = left\n",
    "            for i in range(left, right):\n",
    "                if nums[i] < pivot:\n",
    "                    nums[store_index], nums[i] = nums[i], nums[store_index]\n",
    "                    store_index += 1\n",
    "\n",
    "            # 3. move pivot to its final place\n",
    "            nums[right], nums[store_index] = nums[store_index], nums[right]  \n",
    "            \n",
    "            return store_index\n",
    "        \n",
    "        def select(left, right, k_smallest):\n",
    "            \"\"\"\n",
    "            Returns the k-th smallest element of list within left..right\n",
    "            \"\"\"\n",
    "            if left == right:       # If the list contains only one element,\n",
    "                return nums[left]   # return that element\n",
    "            \n",
    "            # select a random pivot_index between \n",
    "            pivot_index = random.randint(left, right)     \n",
    "                            \n",
    "            # find the pivot position in a sorted list   \n",
    "            pivot_index = partition(left, right, pivot_index)\n",
    "            \n",
    "            # the pivot is in its final sorted position\n",
    "            if k_smallest == pivot_index:\n",
    "                 return nums[k_smallest]\n",
    "            # go left\n",
    "            elif k_smallest < pivot_index:\n",
    "                return select(left, pivot_index - 1, k_smallest)\n",
    "            # go right\n",
    "            else:\n",
    "                return select(pivot_index + 1, right, k_smallest)\n",
    "\n",
    "        # kth largest is (n - k)th smallest \n",
    "        return select(0, len(nums) - 1, len(nums) - k)"
   ]
  },
  {
   "cell_type": "markdown",
   "metadata": {},
   "source": [
    "## 162. Find Peak Element"
   ]
  },
  {
   "cell_type": "code",
   "execution_count": 4,
   "metadata": {},
   "outputs": [],
   "source": [
    "# binary search: O(logn) in time\n",
    "# For space complexity, because it's recursive solution, the depth of recursion tree will take O(logn).\n",
    "# If written as iterative version, space complexity will be O(1) instead.\n",
    "class Solution:\n",
    "    def search(self, nums, left, right):\n",
    "        if left == right:\n",
    "            return left\n",
    "        mid = (left + right) // 2  # in python3, '/' would return true division\n",
    "        if nums[mid] < nums[mid+1]:\n",
    "            return self.search(nums, mid+1, right)\n",
    "        else:\n",
    "            return self.search(nums, left, mid)\n",
    "    def findPeakElement(self, nums: List[int]) -> int:\n",
    "        if not nums or len(nums) == 0:\n",
    "            return None\n",
    "        return self.search(nums, 0, len(nums) - 1)"
   ]
  },
  {
   "cell_type": "markdown",
   "metadata": {},
   "source": [
    "## 34. Find First and Last Position of Element in Sorted Array (Search for a Range)"
   ]
  },
  {
   "cell_type": "code",
   "execution_count": 5,
   "metadata": {},
   "outputs": [],
   "source": [
    "# my answer:\n",
    "# first use binary search to find a single instance of target, then expand linearly to explore its boundaries\n",
    "# time: O(logn + k), k is the duplicate number of target in nums\n",
    "# space: O(1)\n",
    "class Solution:\n",
    "    def searchRange(self, nums: List[int], target: int) -> List[int]:\n",
    "        if len(nums) == 0:\n",
    "            return [-1,-1]\n",
    "        # binary search for one target\n",
    "        probe = -1\n",
    "        left = 0\n",
    "        right = len(nums) - 1\n",
    "        while left < right:\n",
    "            mid = (left + right) // 2\n",
    "            if nums[mid] == target:\n",
    "                probe = mid  # record it\n",
    "                break\n",
    "            elif nums[mid] < target:\n",
    "                left = mid + 1\n",
    "            else:\n",
    "                right = mid  # not mid-1, because mid-1 may < 0 or right < left (since mid is more close to the left)\n",
    "        if probe == -1:\n",
    "            # then must left == right\n",
    "            if nums[left] != target:\n",
    "                return [-1,-1]\n",
    "            else:\n",
    "                probe = left\n",
    "        # otherwise, target is found and is stored in probe\n",
    "        # find the boundaries\n",
    "        left_bound = probe\n",
    "        right_bound = probe\n",
    "        while left_bound > 0:\n",
    "            if nums[left_bound-1] == target:\n",
    "                left_bound -= 1\n",
    "            else:\n",
    "                break\n",
    "        while right_bound < len(nums) - 1:\n",
    "            if nums[right_bound+1] == target:\n",
    "                right_bound += 1\n",
    "            else:\n",
    "                break\n",
    "        return [left_bound, right_bound]"
   ]
  },
  {
   "cell_type": "code",
   "execution_count": null,
   "metadata": {},
   "outputs": [],
   "source": []
  }
 ],
 "metadata": {
  "kernelspec": {
   "display_name": "Python 3",
   "language": "python",
   "name": "python3"
  },
  "language_info": {
   "codemirror_mode": {
    "name": "ipython",
    "version": 3
   },
   "file_extension": ".py",
   "mimetype": "text/x-python",
   "name": "python",
   "nbconvert_exporter": "python",
   "pygments_lexer": "ipython3",
   "version": "3.7.4"
  }
 },
 "nbformat": 4,
 "nbformat_minor": 2
}
