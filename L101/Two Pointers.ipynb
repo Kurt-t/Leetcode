{
 "cells": [
  {
   "cell_type": "markdown",
   "metadata": {},
   "source": [
    "# Two Pointers"
   ]
  },
  {
   "cell_type": "code",
   "execution_count": 1,
   "metadata": {},
   "outputs": [],
   "source": [
    "from typing import List"
   ]
  },
  {
   "cell_type": "markdown",
   "metadata": {},
   "source": [
    "## 633. Sum of Square Numbers\n",
    "Given a non-negative integer c, decide whether there're two integers a and b such that a^2 + b^2 = c."
   ]
  },
  {
   "cell_type": "markdown",
   "metadata": {},
   "source": [
    "Using two pointers, the time complexity is O($sqrt(c)$), considering the math.sqrt() to be O(1)."
   ]
  },
  {
   "cell_type": "markdown",
   "metadata": {},
   "source": [
    "### How to get the sq root in Python & How to convert to int by rounding down\n",
    "1. Use math package\n",
    "2. Use functions *int()* (use *float()* to convert int to float)"
   ]
  },
  {
   "cell_type": "code",
   "execution_count": 5,
   "metadata": {},
   "outputs": [
    {
     "name": "stdout",
     "output_type": "stream",
     "text": [
      "3.0\n",
      "3.0\n",
      "3\n",
      "3\n",
      "3\n"
     ]
    }
   ],
   "source": [
    "import math\n",
    "x = math.sqrt(9)\n",
    "print(x)\n",
    "print(x // 1)\n",
    "print(int(x))\n",
    "print(int(3.1))\n",
    "print(int(3.6))"
   ]
  },
  {
   "cell_type": "code",
   "execution_count": 6,
   "metadata": {},
   "outputs": [],
   "source": [
    "import math\n",
    "class Solution:\n",
    "    def judgeSquareSum(self, c: int) -> bool:\n",
    "        if c == 0:\n",
    "            return True\n",
    "        l = 0\n",
    "        r = int(math.sqrt(c)) # get the int of sqrt by rounding down\n",
    "        while l <= r:\n",
    "            sq_sum = l**2 + r**2\n",
    "            if sq_sum == c:\n",
    "                return True\n",
    "            elif sq_sum > c:\n",
    "                r -= 1\n",
    "            else:\n",
    "                l += 1\n",
    "        return False"
   ]
  },
  {
   "cell_type": "markdown",
   "metadata": {},
   "source": [
    "## 680. Valid Palindrome II\n",
    "Given a non-empty string s, you may delete at most one character. Judge whether you can make it a palindrome."
   ]
  },
  {
   "cell_type": "markdown",
   "metadata": {},
   "source": [
    "A very tricky problem with a very tricky corner case, shown as below."
   ]
  },
  {
   "cell_type": "code",
   "execution_count": 7,
   "metadata": {},
   "outputs": [],
   "source": [
    "# wrong solution! Failed on case \"acuucua\", because deleted the wrong char\n",
    "class Solution:\n",
    "    def validPalindrome(self, s: str) -> bool:\n",
    "        l = 0\n",
    "        r = len(s) - 1\n",
    "        hp = 1  # only one chance to delete a char\n",
    "        while l < r:\n",
    "            if s[l] != s[r]:\n",
    "                hp -= 1  # hp - 1 and check\n",
    "                if hp < 0:\n",
    "                    return False\n",
    "                # see if can delete and go on\n",
    "                if r - l > 1:\n",
    "                    if s[l+1] == s[r]:\n",
    "                        l += 1\n",
    "                    elif s[l] == s[r-1]:\n",
    "                        r -= 1\n",
    "                    else:\n",
    "                        return False\n",
    "            l += 1\n",
    "            r -= 1\n",
    "        return True"
   ]
  },
  {
   "cell_type": "code",
   "execution_count": 8,
   "metadata": {},
   "outputs": [],
   "source": [
    "# leetcode solution: define a function is very helpful!\n",
    "class Solution:\n",
    "    def validPalindrome(self, s: str) -> bool:\n",
    "        def is_strict_palindrome(i, j):  # check if palindrome between index i and j\n",
    "            while i < j:\n",
    "                if s[i] != s[j]:\n",
    "                    return False\n",
    "                i += 1\n",
    "                j -= 1\n",
    "            return True\n",
    "        \n",
    "        l = 0\n",
    "        r = len(s) - 1\n",
    "        while l < r:\n",
    "            if s[l] != s[r]:  # delete one of the 2 chars, the rest must be strict palindrome\n",
    "                return is_strict_palindrome(l+1, r) or is_strict_palindrome(l, r-1)\n",
    "            l += 1\n",
    "            r -= 1\n",
    "        return True"
   ]
  },
  {
   "cell_type": "markdown",
   "metadata": {},
   "source": [
    "## 524. Longest Word in Dictionary through Deleting\n",
    "Given a string and a string dictionary, find the longest string in the dictionary that can be formed by deleting some characters of the given string. If there are more than one possible results, return the longest word with the smallest lexicographical order. If there is no possible result, return the empty string."
   ]
  },
  {
   "cell_type": "markdown",
   "metadata": {},
   "source": [
    "First sort the list regarding string length and lexicographical order. Then from the start, use two pointers to compare and find the first match.  \n",
    "Time complexity shall be O(nxlogn + nm), where n is the length of the list, x is the average string length in the list, and m is the length of the input string."
   ]
  },
  {
   "cell_type": "code",
   "execution_count": 9,
   "metadata": {},
   "outputs": [],
   "source": [
    "class Solution:\n",
    "    def findLongestWord(self, s: str, d: List[str]) -> str:\n",
    "        if not s or not d:  # contains the cases of s=='' and d==[]\n",
    "            return ''\n",
    "        # sort the list\n",
    "        d.sort(key = lambda x: (-len(x), x))  # first on length, then on lexico\n",
    "        for word in d:\n",
    "            # check if this word can be obtained by s\n",
    "            i = j = 0\n",
    "            while i < len(s) and j < len(word):\n",
    "                if s[i] == word[j]:\n",
    "                    j += 1\n",
    "                i += 1\n",
    "            if j == len(word):\n",
    "                return word\n",
    "        return ''"
   ]
  },
  {
   "cell_type": "markdown",
   "metadata": {},
   "source": [
    "## 340. Longest Substring with At Most K Distinct Characters\n",
    "Given a string, find the length of the longest substring T that contains at most k distinct characters."
   ]
  },
  {
   "cell_type": "markdown",
   "metadata": {},
   "source": [
    "**len()** can also be applied to get the length of a dict"
   ]
  },
  {
   "cell_type": "code",
   "execution_count": 10,
   "metadata": {},
   "outputs": [
    {
     "name": "stdout",
     "output_type": "stream",
     "text": [
      "<class 'dict'>\n",
      "2\n"
     ]
    }
   ],
   "source": [
    "x = {'a': 1, 'b': 2}\n",
    "print(type(x))\n",
    "print(len(x))"
   ]
  },
  {
   "cell_type": "code",
   "execution_count": null,
   "metadata": {},
   "outputs": [],
   "source": []
  }
 ],
 "metadata": {
  "kernelspec": {
   "display_name": "Python 3",
   "language": "python",
   "name": "python3"
  },
  "language_info": {
   "codemirror_mode": {
    "name": "ipython",
    "version": 3
   },
   "file_extension": ".py",
   "mimetype": "text/x-python",
   "name": "python",
   "nbconvert_exporter": "python",
   "pygments_lexer": "ipython3",
   "version": "3.7.4"
  }
 },
 "nbformat": 4,
 "nbformat_minor": 2
}
