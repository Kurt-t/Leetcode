{
 "cells": [
  {
   "cell_type": "markdown",
   "metadata": {},
   "source": [
    "# Greedy Algorithm"
   ]
  },
  {
   "cell_type": "code",
   "execution_count": 2,
   "metadata": {},
   "outputs": [],
   "source": [
    "from typing import List"
   ]
  },
  {
   "cell_type": "markdown",
   "metadata": {},
   "source": [
    "## 605. Can Place Flowers\n",
    "Given an integer array flowerbed containing 0's and 1's, where 0 means empty and 1 means not empty, and an integer n, return if n new flowers can be planted in the flowerbed without violating the no-adjacent-flowers rule."
   ]
  },
  {
   "cell_type": "markdown",
   "metadata": {},
   "source": [
    "A single scan is enough.  \n",
    "The tricky part is to set the conditionals, and the corner case n == 0.  \n",
    "An improvement is to make early termination when n decreases to 0."
   ]
  },
  {
   "cell_type": "code",
   "execution_count": 3,
   "metadata": {},
   "outputs": [],
   "source": [
    "class Solution:\n",
    "    def canPlaceFlowers(self, flowerbed: List[int], n: int) -> bool:\n",
    "        if n == 0:  # if n is 0, just return true\n",
    "            return True\n",
    "        i = 0\n",
    "        while i < len(flowerbed):\n",
    "            if flowerbed[i] == 0:\n",
    "                if i + 1 >= len(flowerbed) or flowerbed[i+1] == 0:\n",
    "                    n = n - 1\n",
    "                    # check for early termination:\n",
    "                    if n == 0:\n",
    "                        return True \n",
    "                    i = i + 2\n",
    "                else:\n",
    "                    i = i + 3\n",
    "            else:\n",
    "                i = i + 2\n",
    "            \n",
    "        return False"
   ]
  },
  {
   "cell_type": "markdown",
   "metadata": {},
   "source": [
    "## 452. Minimum Number of Arrows to Burst Balloons\n",
    "Given an array points where points[i] = [xstart, xend], return the minimum number of arrows that must be shot to burst all balloons."
   ]
  },
  {
   "cell_type": "markdown",
   "metadata": {},
   "source": [
    "A sort (on a key) and a scan is enough to solve it.  \n",
    "Can use the x_start to sort, but using x_end to sort writes more conveniently.  \n",
    "*sort()* and *sorted()* in Python both take the *key* argument, pass in a lambda. Also, can directly use *min()*."
   ]
  },
  {
   "cell_type": "code",
   "execution_count": 4,
   "metadata": {},
   "outputs": [],
   "source": [
    "# sort on x_start: have to do a min() comparison\n",
    "class Solution:\n",
    "    def findMinArrowShots(self, points: List[List[int]]) -> int:\n",
    "        if len(points) == 0:\n",
    "            return 0\n",
    "        points.sort(key=lambda x: x[0])  # sort in terms of x_start\n",
    "        count = 1\n",
    "        x_end = points[0][1]\n",
    "        for i in range(1, len(points)):\n",
    "            if points[i][0] <= x_end:\n",
    "                x_end = min(x_end, points[i][1])  # compare the end here!\n",
    "            else:\n",
    "                count = count + 1\n",
    "                x_end = points[i][1]\n",
    "        return count"
   ]
  },
  {
   "cell_type": "code",
   "execution_count": 5,
   "metadata": {},
   "outputs": [],
   "source": [
    "# sort on x_end: don't need to compare x_end any more, so a bit faster\n",
    "class Solution:\n",
    "    def findMinArrowShots(self, points: List[List[int]]) -> int:\n",
    "        if not points:  # also includes case of size==0\n",
    "            return 0\n",
    "        points.sort(key=lambda x: x[1])  # sort in terms of x_start\n",
    "        count = 1\n",
    "        curr_first_end = points[0][1]\n",
    "        for x_start, x_end in points:\n",
    "            if x_start > curr_first_end:\n",
    "                count += 1\n",
    "                curr_first_end = x_end\n",
    "        return count"
   ]
  },
  {
   "cell_type": "markdown",
   "metadata": {},
   "source": [
    "## 763. Partition Labels\n",
    "A string S of lowercase English letters is given. We want to partition this string into as many parts as possible so that each letter appears in at most one part, and return a list of integers representing the size of these parts."
   ]
  },
  {
   "cell_type": "markdown",
   "metadata": {},
   "source": [
    "First scan and get some information, which is the intervals of the characters (or the index of its last occurrence).  \n",
    "Then scan the intervals/string to get the overlapping intervals and compute the length.  \n",
    "**enumerate()** is a great function to use, it might speed up the program a bit."
   ]
  },
  {
   "cell_type": "code",
   "execution_count": 7,
   "metadata": {},
   "outputs": [],
   "source": [
    "# my solution: get both start and end indices of a char\n",
    "class Solution:\n",
    "    def partitionLabels(self, S: str) -> List[int]:\n",
    "        # pre-process: a map from char to 2-size list, x_start and x_end\n",
    "        map = dict()\n",
    "        for i, c in enumerate(S):  # enumerate: iterable with counters\n",
    "            if not c in map:\n",
    "                map[c] = [i, i]\n",
    "            else:\n",
    "                map[c][1] = i\n",
    "        ranges = list(map.values())  # an easy way to get values as list\n",
    "        # sort based on x_start\n",
    "        ranges.sort(key = lambda x: x[0])\n",
    "        # if two intervals are a bit overlapped, they should be 1 part\n",
    "        partitions = []\n",
    "        curr_last_end = ranges[0][1]  # the curr end of partition\n",
    "        curr_start = 0  # the start of curr partition\n",
    "        for start, end in ranges:\n",
    "            if start > curr_last_end:\n",
    "                partitions.append(curr_last_end - curr_start + 1)\n",
    "                curr_start = curr_last_end + 1\n",
    "                curr_last_end = end\n",
    "            else:\n",
    "                curr_last_end = max(curr_last_end, end)\n",
    "        partitions.append(curr_last_end - curr_start + 1)\n",
    "        return partitions"
   ]
  },
  {
   "cell_type": "code",
   "execution_count": 8,
   "metadata": {},
   "outputs": [],
   "source": [
    "# leetcode solution: very concise\n",
    "class Solution:\n",
    "    def partitionLabels(self, S: str) -> List[int]:\n",
    "        last = {c: i for i, c in enumerate(S)}  # get the last occurrence indices in 1 line\n",
    "        start = end = 0\n",
    "        partitions = []\n",
    "        for i, c in enumerate(S):\n",
    "            end = max(end, last[c])\n",
    "            if i == end:  # at the end of the curr partition\n",
    "                partitions.append(end - start + 1)\n",
    "                start = i + 1\n",
    "        return partitions"
   ]
  },
  {
   "cell_type": "markdown",
   "metadata": {},
   "source": [
    "## 122. Best Time to Buy and Sell Stock II\n",
    "Say you have an array prices for which the ith element is the price of a given stock on day i.\n",
    "Design an algorithm to find the maximum profit. You may complete as many transactions as you like."
   ]
  },
  {
   "cell_type": "markdown",
   "metadata": {},
   "source": [
    "A single scan would do. But writing the conditionals could be tricky."
   ]
  },
  {
   "cell_type": "code",
   "execution_count": 9,
   "metadata": {},
   "outputs": [],
   "source": [
    "# my solution:\n",
    "class Solution:\n",
    "    def maxProfit(self, prices: List[int]) -> int:\n",
    "        profit = 0\n",
    "        buy = -1  # if there is a buy\n",
    "        for i, price in enumerate(prices):\n",
    "            if buy < 0 and i+1 < len(prices) and prices[i+1] > price:  # no buy and should buy\n",
    "                buy = price\n",
    "            elif buy >= 0 and (i+1 >= len(prices) or prices[i+1] < price):  # already bought one and should sell\n",
    "                profit += price - buy\n",
    "                buy = -1\n",
    "        return profit"
   ]
  },
  {
   "cell_type": "code",
   "execution_count": 12,
   "metadata": {},
   "outputs": [],
   "source": [
    "# leetcode best solution: as long as there's an increase, add it to the profit!\n",
    "class Solution:\n",
    "    def maxProfit(self, prices: List[int]) -> int:\n",
    "        profit = 0\n",
    "        for i in range(1, len(prices)):\n",
    "            if prices[i] > prices[i-1]:\n",
    "                profit += prices[i] - prices[i-1]\n",
    "        return profit"
   ]
  },
  {
   "cell_type": "markdown",
   "metadata": {},
   "source": [
    "## 406. Queue Reconstruction by Height\n",
    "You are given an array of people, people, which are the attributes of some people in a queue (not necessarily in order). Each people[i] = [hi, ki] represents the ith person of height hi with exactly ki other people in front who have a height greater than or equal to hi.  \n",
    "Reconstruct and return the queue that is represented by the input array people. The returned queue should be formatted as an array queue, where queue[j] = [hj, kj] is the attributes of the jth person in the queue (queue[0] is the person at the front of the queue).\n",
    "\n"
   ]
  },
  {
   "cell_type": "markdown",
   "metadata": {},
   "source": [
    "The following strategy could be continued recursively:  \n",
    "1. Sort the tallest guys in the ascending order by k-values and then insert them one by one into output queue at the indexes equal to their k-values.\n",
    "2. Take the next height in the descending order. Sort the guys of that height in the ascending order by k-values and then insert them one by one into output queue at the indexes equal to their k-values.\n",
    "3. And so on and so forth."
   ]
  },
  {
   "cell_type": "markdown",
   "metadata": {},
   "source": [
    "**sort(key = lambda x: (x[0], x[1])**: by assigning a tuple to the lambda, it means to sort first on the 1st element of the tuple, if that one is equal, sort based on the second element then.  \n",
    "**lst.insert(index, element)**: a way to insert into a place in the list, takes O(k), where k is the current length."
   ]
  },
  {
   "cell_type": "code",
   "execution_count": 13,
   "metadata": {},
   "outputs": [],
   "source": [
    "# leetcode solution\n",
    "class Solution:\n",
    "    def reconstructQueue(self, people: List[List[int]]) -> List[List[int]]:\n",
    "        people.sort(key = lambda x: (-x[0], x[1]))\n",
    "        output = []\n",
    "        for p in people:\n",
    "            output.insert(p[1], p)\n",
    "        return output"
   ]
  },
  {
   "cell_type": "markdown",
   "metadata": {},
   "source": [
    "## 665. Non-decreasing Array\n",
    "Given an array nums with n integers, your task is to check if it could become non-decreasing by modifying at most 1 element."
   ]
  },
  {
   "cell_type": "markdown",
   "metadata": {},
   "source": [
    "Don't know why this one is an \"easy\" problem, it's very tricky, and prone to error.  \n",
    "It requires to consider 4 nodes at a time to see if a decrease situation can be fixed."
   ]
  },
  {
   "cell_type": "markdown",
   "metadata": {},
   "source": [
    "**Algorithm**  \n",
    "As before, let p be the unique problem index for which $A[p]>A[p+1]$. If this is not unique or doesn't exist, the answer is False or True respectively. We analyze the following cases:  \n",
    "If $p = 0$, then we could make the array good by setting $A[p] = A[p+1]$.  \n",
    "If $p = len(A) - 2$, then we could make the array good by setting $A[p+1] = A[p]$.  \n",
    "Otherwise, $A[p-1], A[p], A[p+1], A[p+2]$ all exist, and:  \n",
    "We could change $A[p]$ to be between $A[p-1]$ and $A[p+1]$ if possible, or;  \n",
    "We could change $A[p+1]$ to be between $A[p]$ and $A[p+2]$ if possible."
   ]
  },
  {
   "cell_type": "code",
   "execution_count": null,
   "metadata": {},
   "outputs": [],
   "source": [
    "# my solution:\n",
    "class Solution:\n",
    "    def checkPossibility(self, nums: List[int]) -> bool:\n",
    "        if len(nums) == 1:\n",
    "            return True\n",
    "        hp = 1  # one chance\n",
    "        for i in range(len(nums) - 1):\n",
    "            if nums[i] > nums[i+1]:\n",
    "                hp -= 1\n",
    "                if hp < 0:\n",
    "                    return False\n",
    "                if i > 0 and i+1 < len(nums) - 1: # not first (if i is first, ignore), i+1 not last\n",
    "                    # now there are i-1, i, i+1, i+2:\n",
    "                    if nums[i+2] < nums[i+1]:\n",
    "                        return False\n",
    "                    elif nums[i+1] < nums[i-1]:  # otherwise changing nums[i] would do\n",
    "                        if nums[i+2] < nums[i]:\n",
    "                            return False\n",
    "        return True"
   ]
  },
  {
   "cell_type": "code",
   "execution_count": 14,
   "metadata": {},
   "outputs": [],
   "source": [
    "# leetcode\n",
    "class Solution(object):\n",
    "    def checkPossibility(self, A):\n",
    "        p = None\n",
    "        for i in xrange(len(A) - 1):\n",
    "            if A[i] > A[i+1]:\n",
    "                if p is not None:\n",
    "                    return False\n",
    "                p = i\n",
    "\n",
    "        return (p is None or p == 0 or p == len(A)-2 or\n",
    "                A[p-1] <= A[p+1] or A[p] <= A[p+2])"
   ]
  },
  {
   "cell_type": "code",
   "execution_count": null,
   "metadata": {},
   "outputs": [],
   "source": []
  }
 ],
 "metadata": {
  "kernelspec": {
   "display_name": "Python 3",
   "language": "python",
   "name": "python3"
  },
  "language_info": {
   "codemirror_mode": {
    "name": "ipython",
    "version": 3
   },
   "file_extension": ".py",
   "mimetype": "text/x-python",
   "name": "python",
   "nbconvert_exporter": "python",
   "pygments_lexer": "ipython3",
   "version": "3.7.4"
  }
 },
 "nbformat": 4,
 "nbformat_minor": 2
}
